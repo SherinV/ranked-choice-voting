{
 "cells": [
  {
   "cell_type": "code",
   "execution_count": 3,
   "metadata": {},
   "outputs": [
    {
     "name": "stdout",
     "output_type": "stream",
     "text": [
      "Requirement already satisfied: numba in c:\\users\\anxhe\\appdata\\local\\programs\\python\\python38-32\\lib\\site-packages (0.51.2)\n",
      "Requirement already satisfied: numpy>=1.15 in c:\\users\\anxhe\\appdata\\local\\programs\\python\\python38-32\\lib\\site-packages (from numba) (1.19.0)\n",
      "Requirement already satisfied: setuptools in c:\\users\\anxhe\\appdata\\local\\programs\\python\\python38-32\\lib\\site-packages (from numba) (41.2.0)\n",
      "Requirement already satisfied: llvmlite<0.35,>=0.34.0.dev0 in c:\\users\\anxhe\\appdata\\local\\programs\\python\\python38-32\\lib\\site-packages (from numba) (0.34.0)\n",
      "Note: you may need to restart the kernel to use updated packages.\n"
     ]
    },
    {
     "name": "stderr",
     "output_type": "stream",
     "text": [
      "WARNING: You are using pip version 20.1.1; however, version 20.2.3 is available.\n",
      "You should consider upgrading via the 'c:\\users\\anxhe\\appdata\\local\\programs\\python\\python38-32\\python.exe -m pip install --upgrade pip' command.\n",
      "ERROR: Could not find a version that satisfies the requirement cudatoolkit (from versions: none)\n",
      "ERROR: No matching distribution found for cudatoolkit\n",
      "WARNING: You are using pip version 20.1.1; however, version 20.2.3 is available.\n",
      "You should consider upgrading via the 'c:\\users\\anxhe\\appdata\\local\\programs\\python\\python38-32\\python.exe -m pip install --upgrade pip' command.\n"
     ]
    }
   ],
   "source": [
    "pip install numba & pip install cudatoolkit"
   ]
  },
  {
   "cell_type": "code",
   "execution_count": 4,
   "metadata": {},
   "outputs": [
    {
     "name": "stdout",
     "output_type": "stream",
     "text": [
      "Collecting numba\n",
      "  Downloading numba-0.51.2-cp38-cp38-win32.whl (2.2 MB)\n",
      "Collecting llvmlite<0.35,>=0.34.0.dev0\n",
      "  Downloading llvmlite-0.34.0-cp38-cp38-win32.whl (12.9 MB)\n",
      "Requirement already satisfied: setuptools in c:\\users\\anxhe\\appdata\\local\\programs\\python\\python38-32\\lib\\site-packages (from numba) (41.2.0)\n",
      "Requirement already satisfied: numpy>=1.15 in c:\\users\\anxhe\\appdata\\local\\programs\\python\\python38-32\\lib\\site-packages (from numba) (1.19.0)\n",
      "Installing collected packages: llvmlite, numba\n",
      "Successfully installed llvmlite-0.34.0 numba-0.51.2\n",
      "Note: you may need to restart the kernel to use updated packages.\n"
     ]
    },
    {
     "name": "stderr",
     "output_type": "stream",
     "text": [
      "WARNING: You are using pip version 20.1.1; however, version 20.2.3 is available.\n",
      "You should consider upgrading via the 'c:\\users\\anxhe\\appdata\\local\\programs\\python\\python38-32\\python.exe -m pip install --upgrade pip' command.\n"
     ]
    }
   ],
   "source": [
    "pip install numba"
   ]
  },
  {
   "cell_type": "code",
   "execution_count": 1,
   "metadata": {},
   "outputs": [
    {
     "ename": "ValueError",
     "evalue": "\nKernel launch configuration was not specified. Use the syntax:\n\nkernel_function[blockspergrid, threadsperblock](arg0, arg1, ..., argn)\n\nSee https://numba.pydata.org/numba-doc/latest/cuda/kernels.html#kernel-invocation for help.\n\n",
     "output_type": "error",
     "traceback": [
      "\u001b[1;31m---------------------------------------------------------------------------\u001b[0m",
      "\u001b[1;31mValueError\u001b[0m                                Traceback (most recent call last)",
      "\u001b[1;32m<ipython-input-1-2b06a74a0fac>\u001b[0m in \u001b[0;36m<module>\u001b[1;34m\u001b[0m\n\u001b[0;32m    143\u001b[0m         \u001b[0mcands\u001b[0m \u001b[1;33m=\u001b[0m \u001b[0mnp\u001b[0m\u001b[1;33m.\u001b[0m\u001b[0mrandom\u001b[0m\u001b[1;33m.\u001b[0m\u001b[0mchoice\u001b[0m\u001b[1;33m(\u001b[0m\u001b[1;33m[\u001b[0m\u001b[1;36m3\u001b[0m\u001b[1;33m,\u001b[0m \u001b[1;36m4\u001b[0m\u001b[1;33m,\u001b[0m \u001b[1;36m5\u001b[0m\u001b[1;33m,\u001b[0m \u001b[1;36m6\u001b[0m\u001b[1;33m,\u001b[0m \u001b[1;36m7\u001b[0m\u001b[1;33m,\u001b[0m \u001b[1;36m8\u001b[0m\u001b[1;33m]\u001b[0m\u001b[1;33m,\u001b[0m \u001b[1;36m1\u001b[0m\u001b[1;33m,\u001b[0m \u001b[0mp\u001b[0m\u001b[1;33m=\u001b[0m\u001b[1;33m[\u001b[0m\u001b[1;36m.6\u001b[0m\u001b[1;33m,\u001b[0m \u001b[1;36m.25\u001b[0m\u001b[1;33m,\u001b[0m \u001b[1;36m.1\u001b[0m\u001b[1;33m,\u001b[0m \u001b[1;36m.03\u001b[0m\u001b[1;33m,\u001b[0m \u001b[1;36m.015\u001b[0m\u001b[1;33m,\u001b[0m \u001b[1;36m0.005\u001b[0m\u001b[1;33m]\u001b[0m\u001b[1;33m)\u001b[0m\u001b[1;33m[\u001b[0m\u001b[1;36m0\u001b[0m\u001b[1;33m]\u001b[0m\u001b[1;33m\u001b[0m\u001b[1;33m\u001b[0m\u001b[0m\n\u001b[0;32m    144\u001b[0m         \u001b[0mnoise\u001b[0m \u001b[1;33m=\u001b[0m \u001b[0mnp\u001b[0m\u001b[1;33m.\u001b[0m\u001b[0mrandom\u001b[0m\u001b[1;33m.\u001b[0m\u001b[0mrandint\u001b[0m\u001b[1;33m(\u001b[0m\u001b[1;36m0\u001b[0m\u001b[1;33m,\u001b[0m \u001b[1;36m15\u001b[0m\u001b[1;33m)\u001b[0m\u001b[1;33m\u001b[0m\u001b[1;33m\u001b[0m\u001b[0m\n\u001b[1;32m--> 145\u001b[1;33m         \u001b[0mballots_main\u001b[0m\u001b[1;33m(\u001b[0m\u001b[0mcands\u001b[0m\u001b[1;33m,\u001b[0m \u001b[0mnoise\u001b[0m\u001b[1;33m)\u001b[0m\u001b[1;33m\u001b[0m\u001b[1;33m\u001b[0m\u001b[0m\n\u001b[0m\u001b[0;32m    146\u001b[0m \u001b[0mprint\u001b[0m\u001b[1;33m(\u001b[0m\u001b[1;34m\"--- %s seconds ---\"\u001b[0m \u001b[1;33m%\u001b[0m \u001b[1;33m(\u001b[0m\u001b[0mtime\u001b[0m\u001b[1;33m.\u001b[0m\u001b[0mtime\u001b[0m\u001b[1;33m(\u001b[0m\u001b[1;33m)\u001b[0m \u001b[1;33m-\u001b[0m \u001b[0mstart_time\u001b[0m\u001b[1;33m)\u001b[0m\u001b[1;33m)\u001b[0m\u001b[1;33m\u001b[0m\u001b[1;33m\u001b[0m\u001b[0m\n",
      "\u001b[1;32m<ipython-input-1-2b06a74a0fac>\u001b[0m in \u001b[0;36mballots_main\u001b[1;34m(num_cands, amount_of_noise)\u001b[0m\n\u001b[0;32m    116\u001b[0m \u001b[1;33m\u001b[0m\u001b[0m\n\u001b[0;32m    117\u001b[0m     \u001b[1;31m# funcs:\u001b[0m\u001b[1;33m\u001b[0m\u001b[1;33m\u001b[0m\u001b[1;33m\u001b[0m\u001b[0m\n\u001b[1;32m--> 118\u001b[1;33m     \u001b[0mdf\u001b[0m \u001b[1;33m=\u001b[0m \u001b[0mgenerate_ballots_main_function\u001b[0m\u001b[1;33m(\u001b[0m\u001b[0mnum_cands\u001b[0m\u001b[1;33m,\u001b[0m \u001b[0mnames_of_cands\u001b[0m\u001b[1;33m)\u001b[0m\u001b[1;33m\u001b[0m\u001b[1;33m\u001b[0m\u001b[0m\n\u001b[0m\u001b[0;32m    119\u001b[0m     \u001b[0mmatrix_shape\u001b[0m \u001b[1;33m=\u001b[0m \u001b[0mdf\u001b[0m\u001b[1;33m.\u001b[0m\u001b[0mto_numpy\u001b[0m\u001b[1;33m(\u001b[0m\u001b[1;33m)\u001b[0m\u001b[1;33m.\u001b[0m\u001b[0mshape\u001b[0m\u001b[1;33m\u001b[0m\u001b[1;33m\u001b[0m\u001b[0m\n\u001b[0;32m    120\u001b[0m     \u001b[0mnoise_matrix\u001b[0m \u001b[1;33m=\u001b[0m \u001b[0madd_noise\u001b[0m\u001b[1;33m(\u001b[0m\u001b[0mpercent_noise\u001b[0m\u001b[1;33m=\u001b[0m\u001b[0mamount_of_noise\u001b[0m\u001b[1;33m,\u001b[0m \u001b[0mmatrix_shape\u001b[0m\u001b[1;33m=\u001b[0m\u001b[0mmatrix_shape\u001b[0m\u001b[1;33m)\u001b[0m\u001b[1;33m\u001b[0m\u001b[1;33m\u001b[0m\u001b[0m\n",
      "\u001b[1;32m<ipython-input-1-2b06a74a0fac>\u001b[0m in \u001b[0;36mgenerate_ballots_main_function\u001b[1;34m(num_cands, names_of_cands)\u001b[0m\n\u001b[0;32m     93\u001b[0m \u001b[1;33m\u001b[0m\u001b[0m\n\u001b[0;32m     94\u001b[0m \u001b[1;32mdef\u001b[0m \u001b[0mgenerate_ballots_main_function\u001b[0m\u001b[1;33m(\u001b[0m\u001b[0mnum_cands\u001b[0m\u001b[1;33m,\u001b[0m \u001b[0mnames_of_cands\u001b[0m\u001b[1;33m)\u001b[0m\u001b[1;33m:\u001b[0m\u001b[1;33m\u001b[0m\u001b[1;33m\u001b[0m\u001b[0m\n\u001b[1;32m---> 95\u001b[1;33m     \u001b[0mcandidate_ranks\u001b[0m \u001b[1;33m=\u001b[0m \u001b[0mgenerate_all_possible_rank_combos\u001b[0m\u001b[1;33m(\u001b[0m\u001b[0mnum_cands\u001b[0m\u001b[1;33m)\u001b[0m  \u001b[1;31m# unit test that len(cand ranks) == len(cand names)\u001b[0m\u001b[1;33m\u001b[0m\u001b[1;33m\u001b[0m\u001b[0m\n\u001b[0m\u001b[0;32m     96\u001b[0m     \u001b[0mnum_ballots_in_election\u001b[0m \u001b[1;33m=\u001b[0m \u001b[0mpick_rand_num_of_ballots_for_an_election\u001b[0m\u001b[1;33m(\u001b[0m\u001b[1;33m)\u001b[0m\u001b[1;33m\u001b[0m\u001b[1;33m\u001b[0m\u001b[0m\n\u001b[0;32m     97\u001b[0m     \u001b[0mweights\u001b[0m \u001b[1;33m=\u001b[0m \u001b[0mgenerate_weights_to_apply_to_each_unique_set_of_ranks\u001b[0m\u001b[1;33m(\u001b[0m\u001b[0mcandidate_ranks\u001b[0m\u001b[1;33m)\u001b[0m\u001b[1;33m\u001b[0m\u001b[1;33m\u001b[0m\u001b[0m\n",
      "\u001b[1;32mc:\\users\\anxhe\\appdata\\local\\programs\\python\\python38-32\\lib\\site-packages\\numba\\cuda\\compiler.py\u001b[0m in \u001b[0;36m__call__\u001b[1;34m(self, *args, **kwargs)\u001b[0m\n\u001b[0;32m    851\u001b[0m     \u001b[1;32mdef\u001b[0m \u001b[0m__call__\u001b[0m\u001b[1;33m(\u001b[0m\u001b[0mself\u001b[0m\u001b[1;33m,\u001b[0m \u001b[1;33m*\u001b[0m\u001b[0margs\u001b[0m\u001b[1;33m,\u001b[0m \u001b[1;33m**\u001b[0m\u001b[0mkwargs\u001b[0m\u001b[1;33m)\u001b[0m\u001b[1;33m:\u001b[0m\u001b[1;33m\u001b[0m\u001b[1;33m\u001b[0m\u001b[0m\n\u001b[0;32m    852\u001b[0m         \u001b[1;31m# An attempt to launch an unconfigured kernel\u001b[0m\u001b[1;33m\u001b[0m\u001b[1;33m\u001b[0m\u001b[1;33m\u001b[0m\u001b[0m\n\u001b[1;32m--> 853\u001b[1;33m         \u001b[1;32mraise\u001b[0m \u001b[0mValueError\u001b[0m\u001b[1;33m(\u001b[0m\u001b[0mmissing_launch_config_msg\u001b[0m\u001b[1;33m)\u001b[0m\u001b[1;33m\u001b[0m\u001b[1;33m\u001b[0m\u001b[0m\n\u001b[0m\u001b[0;32m    854\u001b[0m \u001b[1;33m\u001b[0m\u001b[0m\n\u001b[0;32m    855\u001b[0m     \u001b[1;32mdef\u001b[0m \u001b[0mcall\u001b[0m\u001b[1;33m(\u001b[0m\u001b[0mself\u001b[0m\u001b[1;33m,\u001b[0m \u001b[0margs\u001b[0m\u001b[1;33m,\u001b[0m \u001b[0mgriddim\u001b[0m\u001b[1;33m,\u001b[0m \u001b[0mblockdim\u001b[0m\u001b[1;33m,\u001b[0m \u001b[0mstream\u001b[0m\u001b[1;33m,\u001b[0m \u001b[0msharedmem\u001b[0m\u001b[1;33m)\u001b[0m\u001b[1;33m:\u001b[0m\u001b[1;33m\u001b[0m\u001b[1;33m\u001b[0m\u001b[0m\n",
      "\u001b[1;31mValueError\u001b[0m: \nKernel launch configuration was not specified. Use the syntax:\n\nkernel_function[blockspergrid, threadsperblock](arg0, arg1, ..., argn)\n\nSee https://numba.pydata.org/numba-doc/latest/cuda/kernels.html#kernel-invocation for help.\n\n"
     ]
    }
   ],
   "source": [
    "from itertools import permutations\n",
    "import pandas as pd\n",
    "import numpy as np\n",
    "from datetime import datetime\n",
    "import sys\n",
    "from numba import jit, cuda \n",
    "\n",
    "@cuda.jit\n",
    "\n",
    "# unit test for this would just be len(returned_list) = permutations of num_cands:\n",
    "def generate_all_possible_rank_combos(num_cands):\n",
    "    \"\"\"\n",
    "    :param num_cands: number of candidates for an election\n",
    "    :return: list of tuples, each tuple contains unique combination of ranks\n",
    "    \"\"\"\n",
    "    return list(permutations(list(range(1,num_cands+1))))\n",
    "\n",
    "\n",
    "# unit test = that the number is btwn 500 and 50k:\n",
    "def pick_rand_num_of_ballots_for_an_election():\n",
    "    \"\"\"\n",
    "    :return: a random number between 500-50k to tell us how many ballots we should generate for an election\n",
    "    \"\"\"\n",
    "    return(np.random.randint(500, 50001))\n",
    "\n",
    "\n",
    "# unit test = weights have to sum to 1.0 always\n",
    "def generate_weights_to_apply_to_each_unique_set_of_ranks(cand_ranks):\n",
    "    \"\"\"\n",
    "    :param cand_ranks: list of tuples, each tuple contains unique combination of ranks\n",
    "    :return: list of weights that sum to 1.0 that will be used to determine the percentage of the total ballots\n",
    "        in an election that look like one of the unique rank combinations\n",
    "    \"\"\"\n",
    "    num_unique_rank_combos = len(cand_ranks)\n",
    "    weights = np.random.randint(1, 101, num_unique_rank_combos)\n",
    "    weights = [weight/sum(weights) for weight in weights]\n",
    "    return weights\n",
    "\n",
    "\n",
    "def generate_distribution_of_ballots(num_ballots_in_election, weights):\n",
    "    \"\"\"\n",
    "    :param num_ballots_in_election: total rows (i.e. ballots) to be generated for an election\n",
    "    :param weights: weights to apply to unique combo of ranks (i.e. unique ballots) generated for an election\n",
    "    :return: list of ints, where each int == num rows (i.e. ballots) to be generated per unique rank combo\n",
    "        for an election\n",
    "    \"\"\"\n",
    "    total_rows = num_ballots_in_election\n",
    "    distribution_of_ballots = []\n",
    "    for weight in weights:\n",
    "        distribution_of_ballots.append(int(round(total_rows*weight)))\n",
    "    return distribution_of_ballots\n",
    "\n",
    "\n",
    "def generate_ballots(distribution_of_ballots, cand_ranks):\n",
    "    ballots = []\n",
    "    for unique_rank_combo in range(len(cand_ranks)):\n",
    "        ballots.append([cand_ranks[unique_rank_combo]]*distribution_of_ballots[unique_rank_combo])\n",
    "    return ballots\n",
    "\n",
    "\n",
    "def turn_ballots_into_dfs(list_of_ballots, cand_names):\n",
    "    return [pd.DataFrame(ballot_combo, columns=cand_names) for ballot_combo in list_of_ballots]\n",
    "\n",
    "\n",
    "def reconcile_num_ballots_with_len_df(num_total_ballots, df):\n",
    "    if len(df) == num_total_ballots:\n",
    "        print(f'length of df ({len(df)}) matches total num of ballots ({num_total_ballots})')\n",
    "        return df\n",
    "\n",
    "    if len(df) < num_total_ballots:\n",
    "        print(f'length of df ({len(df)}) is less than total num of ballots ({num_total_ballots})')\n",
    "        diff = num_total_ballots - len(df)\n",
    "        df = pd.concat([df, df[-1:]*diff])\n",
    "        df.reset_index(inplace=True, drop=True)\n",
    "        return df\n",
    "\n",
    "    if len(df) > num_total_ballots:\n",
    "        print(f'length of df ({len(df)}) is longer than total num of ballots ({num_total_ballots})')\n",
    "        diff = len(df) - num_total_ballots\n",
    "        df = df[:-diff]\n",
    "        return df\n",
    "\n",
    "def add_noise(percent_noise, matrix_shape):\n",
    "    \"\"\"\n",
    "    :param percent_noise:\n",
    "    :param matrix_shape:\n",
    "    :return:\n",
    "    \"\"\"\n",
    "    p = [percent_noise/1, 1-percent_noise/1]\n",
    "    n = matrix_shape[0]\n",
    "    m = matrix_shape[1]\n",
    "    return np.random.choice([0, 1], size=(n, m), p=p)\n",
    "\n",
    "def generate_ballots_main_function(num_cands, names_of_cands):\n",
    "    candidate_ranks = generate_all_possible_rank_combos(num_cands)  # unit test that len(cand ranks) == len(cand names)\n",
    "    num_ballots_in_election = pick_rand_num_of_ballots_for_an_election()\n",
    "    weights = generate_weights_to_apply_to_each_unique_set_of_ranks(candidate_ranks)\n",
    "    election_row_distribution = generate_distribution_of_ballots(num_ballots_in_election, weights)\n",
    "    ballots = generate_ballots(election_row_distribution, candidate_ranks)\n",
    "    dfs = turn_ballots_into_dfs(ballots, names_of_cands)\n",
    "    df = pd.concat(dfs)\n",
    "    df = reconcile_num_ballots_with_len_df(num_ballots_in_election, df)\n",
    "    return df\n",
    "\n",
    "def ballots_main(num_cands: int, amount_of_noise: int) -> None:\n",
    "    \"\"\"\n",
    "    Writes dataframe to csv.\n",
    "    Dataframe has cols \"candidate_1, candidate_2, candidate_3\"\n",
    "    \"\"\"\n",
    "\n",
    "    # hyperparams\n",
    "    names_of_cands = [f'candidate_{i}' for i in range(1, num_cands+1)]\n",
    "    amount_of_noise = (amount_of_noise/100)/num_cands\n",
    "    date = datetime.now()\n",
    "    file_date = date.strftime(\"%m-%d-%Y_%H-%M-%S\")\n",
    "\n",
    "    # funcs:\n",
    "    df = generate_ballots_main_function(num_cands, names_of_cands)\n",
    "    matrix_shape = df.to_numpy().shape\n",
    "    noise_matrix = add_noise(percent_noise=amount_of_noise, matrix_shape=matrix_shape)\n",
    "    df = df * noise_matrix\n",
    "\n",
    "    col_replacements = list(range(1, len(df.columns) + 1))\n",
    "    for i in col_replacements:\n",
    "        df = df.replace({i: df.columns[i - 1]})\n",
    "\n",
    "    df['num_candidates'] = num_cands\n",
    "    df['noise'] = amount_of_noise\n",
    "    df.to_csv(f'data/election_{file_date}_{num_cands}cands_{amount_of_noise}noise.csv')\n",
    "\n",
    "\n",
    "    \n",
    "    \n",
    "    \n",
    "import time\n",
    "start_time = time.time() \n",
    "      \n",
    "if __name__ == \"__main__\":\n",
    "\n",
    "    for i in range(5652):   # change to 25k when ready\n",
    "\n",
    "        # rand # cands btwn 3-8, with 3 being the most likely randomly-generated number:\n",
    "        cands = np.random.choice([3, 4, 5, 6, 7, 8], 1, p=[.6, .25, .1, .03, .015, 0.005])[0]\n",
    "        noise = np.random.randint(0, 15)\n",
    "        ballots_main(cands, noise)\n",
    "print(\"--- %s seconds ---\" % (time.time() - start_time))   "
   ]
  },
  {
   "cell_type": "code",
   "execution_count": 2,
   "metadata": {},
   "outputs": [
    {
     "ename": "CudaSupportError",
     "evalue": "Error at driver init: \nCUDA is disabled due to setting NUMBA_DISABLE_CUDA=1 in the environment, or because CUDA is unsupported on 32-bit systems.:",
     "output_type": "error",
     "traceback": [
      "\u001b[1;31m---------------------------------------------------------------------------\u001b[0m",
      "\u001b[1;31mCudaSupportError\u001b[0m                          Traceback (most recent call last)",
      "\u001b[1;32m<ipython-input-2-87434641e75b>\u001b[0m in \u001b[0;36m<module>\u001b[1;34m\u001b[0m\n\u001b[0;32m      1\u001b[0m \u001b[1;32mfrom\u001b[0m \u001b[0mnumba\u001b[0m \u001b[1;32mimport\u001b[0m \u001b[0mcuda\u001b[0m\u001b[1;33m\u001b[0m\u001b[1;33m\u001b[0m\u001b[0m\n\u001b[1;32m----> 2\u001b[1;33m \u001b[0mprint\u001b[0m\u001b[1;33m(\u001b[0m\u001b[0mcuda\u001b[0m\u001b[1;33m.\u001b[0m\u001b[0mgpus\u001b[0m\u001b[1;33m)\u001b[0m\u001b[1;33m\u001b[0m\u001b[1;33m\u001b[0m\u001b[0m\n\u001b[0m",
      "\u001b[1;32mc:\\users\\anxhe\\appdata\\local\\programs\\python\\python38-32\\lib\\site-packages\\numba\\cuda\\cudadrv\\devices.py\u001b[0m in \u001b[0;36m__str__\u001b[1;34m(self)\u001b[0m\n\u001b[0;32m     41\u001b[0m \u001b[1;33m\u001b[0m\u001b[0m\n\u001b[0;32m     42\u001b[0m     \u001b[1;32mdef\u001b[0m \u001b[0m__str__\u001b[0m\u001b[1;33m(\u001b[0m\u001b[0mself\u001b[0m\u001b[1;33m)\u001b[0m\u001b[1;33m:\u001b[0m\u001b[1;33m\u001b[0m\u001b[1;33m\u001b[0m\u001b[0m\n\u001b[1;32m---> 43\u001b[1;33m         \u001b[1;32mreturn\u001b[0m \u001b[1;34m', '\u001b[0m\u001b[1;33m.\u001b[0m\u001b[0mjoin\u001b[0m\u001b[1;33m(\u001b[0m\u001b[1;33m[\u001b[0m\u001b[0mstr\u001b[0m\u001b[1;33m(\u001b[0m\u001b[0md\u001b[0m\u001b[1;33m)\u001b[0m \u001b[1;32mfor\u001b[0m \u001b[0md\u001b[0m \u001b[1;32min\u001b[0m \u001b[0mself\u001b[0m\u001b[1;33m.\u001b[0m\u001b[0mlst\u001b[0m\u001b[1;33m]\u001b[0m\u001b[1;33m)\u001b[0m\u001b[1;33m\u001b[0m\u001b[1;33m\u001b[0m\u001b[0m\n\u001b[0m\u001b[0;32m     44\u001b[0m \u001b[1;33m\u001b[0m\u001b[0m\n\u001b[0;32m     45\u001b[0m     \u001b[1;32mdef\u001b[0m \u001b[0m__iter__\u001b[0m\u001b[1;33m(\u001b[0m\u001b[0mself\u001b[0m\u001b[1;33m)\u001b[0m\u001b[1;33m:\u001b[0m\u001b[1;33m\u001b[0m\u001b[1;33m\u001b[0m\u001b[0m\n",
      "\u001b[1;32mc:\\users\\anxhe\\appdata\\local\\programs\\python\\python38-32\\lib\\site-packages\\numba\\cuda\\cudadrv\\devices.py\u001b[0m in \u001b[0;36m__getattr__\u001b[1;34m(self, attr)\u001b[0m\n\u001b[0;32m     24\u001b[0m             \u001b[1;31m# Device list is not initialized.\u001b[0m\u001b[1;33m\u001b[0m\u001b[1;33m\u001b[0m\u001b[1;33m\u001b[0m\u001b[0m\n\u001b[0;32m     25\u001b[0m             \u001b[1;31m# Query all CUDA devices.\u001b[0m\u001b[1;33m\u001b[0m\u001b[1;33m\u001b[0m\u001b[1;33m\u001b[0m\u001b[0m\n\u001b[1;32m---> 26\u001b[1;33m             \u001b[0mnumdev\u001b[0m \u001b[1;33m=\u001b[0m \u001b[0mdriver\u001b[0m\u001b[1;33m.\u001b[0m\u001b[0mget_device_count\u001b[0m\u001b[1;33m(\u001b[0m\u001b[1;33m)\u001b[0m\u001b[1;33m\u001b[0m\u001b[1;33m\u001b[0m\u001b[0m\n\u001b[0m\u001b[0;32m     27\u001b[0m             gpus = [_DeviceContextManager(driver.get_device(devid))\n\u001b[0;32m     28\u001b[0m                     for devid in range(numdev)]\n",
      "\u001b[1;32mc:\\users\\anxhe\\appdata\\local\\programs\\python\\python38-32\\lib\\site-packages\\numba\\cuda\\cudadrv\\driver.py\u001b[0m in \u001b[0;36mget_device_count\u001b[1;34m(self)\u001b[0m\n\u001b[0;32m    346\u001b[0m     \u001b[1;32mdef\u001b[0m \u001b[0mget_device_count\u001b[0m\u001b[1;33m(\u001b[0m\u001b[0mself\u001b[0m\u001b[1;33m)\u001b[0m\u001b[1;33m:\u001b[0m\u001b[1;33m\u001b[0m\u001b[1;33m\u001b[0m\u001b[0m\n\u001b[0;32m    347\u001b[0m         \u001b[0mcount\u001b[0m \u001b[1;33m=\u001b[0m \u001b[0mc_int\u001b[0m\u001b[1;33m(\u001b[0m\u001b[1;33m)\u001b[0m\u001b[1;33m\u001b[0m\u001b[1;33m\u001b[0m\u001b[0m\n\u001b[1;32m--> 348\u001b[1;33m         \u001b[0mself\u001b[0m\u001b[1;33m.\u001b[0m\u001b[0mcuDeviceGetCount\u001b[0m\u001b[1;33m(\u001b[0m\u001b[0mbyref\u001b[0m\u001b[1;33m(\u001b[0m\u001b[0mcount\u001b[0m\u001b[1;33m)\u001b[0m\u001b[1;33m)\u001b[0m\u001b[1;33m\u001b[0m\u001b[1;33m\u001b[0m\u001b[0m\n\u001b[0m\u001b[0;32m    349\u001b[0m         \u001b[1;32mreturn\u001b[0m \u001b[0mcount\u001b[0m\u001b[1;33m.\u001b[0m\u001b[0mvalue\u001b[0m\u001b[1;33m\u001b[0m\u001b[1;33m\u001b[0m\u001b[0m\n\u001b[0;32m    350\u001b[0m \u001b[1;33m\u001b[0m\u001b[0m\n",
      "\u001b[1;32mc:\\users\\anxhe\\appdata\\local\\programs\\python\\python38-32\\lib\\site-packages\\numba\\cuda\\cudadrv\\driver.py\u001b[0m in \u001b[0;36m__getattr__\u001b[1;34m(self, fname)\u001b[0m\n\u001b[0;32m    283\u001b[0m \u001b[1;33m\u001b[0m\u001b[0m\n\u001b[0;32m    284\u001b[0m         \u001b[1;32mif\u001b[0m \u001b[0mself\u001b[0m\u001b[1;33m.\u001b[0m\u001b[0minitialization_error\u001b[0m \u001b[1;32mis\u001b[0m \u001b[1;32mnot\u001b[0m \u001b[1;32mNone\u001b[0m\u001b[1;33m:\u001b[0m\u001b[1;33m\u001b[0m\u001b[1;33m\u001b[0m\u001b[0m\n\u001b[1;32m--> 285\u001b[1;33m             raise CudaSupportError(\"Error at driver init: \\n%s:\" %\n\u001b[0m\u001b[0;32m    286\u001b[0m                                    self.initialization_error)\n\u001b[0;32m    287\u001b[0m \u001b[1;33m\u001b[0m\u001b[0m\n",
      "\u001b[1;31mCudaSupportError\u001b[0m: Error at driver init: \nCUDA is disabled due to setting NUMBA_DISABLE_CUDA=1 in the environment, or because CUDA is unsupported on 32-bit systems.:"
     ]
    }
   ],
   "source": [
    "from numba import cuda\n",
    "print(cuda.gpus)"
   ]
  },
  {
   "cell_type": "code",
   "execution_count": 4,
   "metadata": {},
   "outputs": [
    {
     "name": "stdout",
     "output_type": "stream",
     "text": [
      "without GPU: 4.931602599999962\n",
      "with GPU: 0.1619442000000504\n"
     ]
    }
   ],
   "source": [
    "\n",
    "from numba import jit, cuda \n",
    "import numpy as np \n",
    "# to measure exec time \n",
    "from timeit import default_timer as timer    \n",
    "  \n",
    "# normal function to run on cpu \n",
    "def func(a):                                 \n",
    "    for i in range(10000000): \n",
    "        a[i]+= 1      \n",
    "  \n",
    "\n",
    "@jit(target =\"cpu\")                          \n",
    "def func2(a): \n",
    "    for i in range(10000000): \n",
    "        a[i]+= 1\n",
    "if __name__==\"__main__\": \n",
    "    n = 10000000                            \n",
    "    a = np.ones(n, dtype = np.float64) \n",
    "    b = np.ones(n, dtype = np.float32) \n",
    "      \n",
    "    start = timer() \n",
    "    func(a) \n",
    "    print(\"without GPU:\", timer()-start)     \n",
    "      \n",
    "    start = timer() \n",
    "    func2(a) \n",
    "    print(\"with GPU:\", timer()-start) \n"
   ]
  },
  {
   "cell_type": "code",
   "execution_count": null,
   "metadata": {},
   "outputs": [],
   "source": []
  }
 ],
 "metadata": {
  "kernelspec": {
   "display_name": "Python 3",
   "language": "python",
   "name": "python3"
  },
  "language_info": {
   "codemirror_mode": {
    "name": "ipython",
    "version": 3
   },
   "file_extension": ".py",
   "mimetype": "text/x-python",
   "name": "python",
   "nbconvert_exporter": "python",
   "pygments_lexer": "ipython3",
   "version": "3.8.3"
  }
 },
 "nbformat": 4,
 "nbformat_minor": 4
}
