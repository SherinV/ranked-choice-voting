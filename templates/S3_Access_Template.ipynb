{
 "cells": [
  {
   "cell_type": "markdown",
   "metadata": {},
   "source": [
    "### Prereqs: "
   ]
  },
  {
   "cell_type": "markdown",
   "metadata": {},
   "source": [
    "  \n",
    "   ##### 1. Add the s3_stuff.py file to the current directory. The functions in s3_stuff.py will be used to access files in rcv s3 bucket.   \n",
    "   ##### 2. Export the environment variables(env vars) for AWS_SECRET_ACCESS_KEY and AWS_ACCESS_KEY_ID before you launch the notebook server.    \n",
    "   ##### 3. If you haven't added the env vars for AWS access, set them within the notebook using `%env AWS_SECRET_ACCESS_KEY=abc`. __MAKE SURE NOT TO COMMIT SECRETS TO GITHUB__   \n",
    "    "
   ]
  },
  {
   "cell_type": "code",
   "execution_count": 1,
   "metadata": {},
   "outputs": [],
   "source": [
    "#Import s3 script\n",
    "import s3_stuff as s3"
   ]
  },
  {
   "cell_type": "code",
   "execution_count": 4,
   "metadata": {},
   "outputs": [],
   "source": [
    "#If not already exported, use this to set it. Don't add this to github\n",
    "#%env AWS_SECRET_ACCESS_KEY=aaaa\n",
    "#%env AWS_ACCESS_KEY_ID=bbbb\n",
    "\n"
   ]
  },
  {
   "cell_type": "code",
   "execution_count": 5,
   "metadata": {},
   "outputs": [],
   "source": [
    "#Create client to connect to s3. This client is an input param in subsequent functions\n",
    "rcv_client = s3.open_s3_connections()"
   ]
  },
  {
   "cell_type": "code",
   "execution_count": 6,
   "metadata": {},
   "outputs": [
    {
     "name": "stderr",
     "output_type": "stream",
     "text": [
      "/Users/shvarugh/.ve/ranked-choice-voting/lib/python3.6/site-packages/IPython/core/interactiveshell.py:3263: DtypeWarning: Columns (3,8) have mixed types.Specify dtype option on import or set low_memory=False.\n",
      "  if (await self.run_code(code, result,  async_=asy)):\n"
     ]
    }
   ],
   "source": [
    "#Download csv named master_dataset_sample_101420.csv and add load as dataframe master_df\n",
    "master_df = s3.download_csv_from_s3_and_load_as_df(rcv_client, file_name='master_dataset_sample_101420.csv')"
   ]
  },
  {
   "cell_type": "code",
   "execution_count": 7,
   "metadata": {},
   "outputs": [
    {
     "data": {
      "text/plain": [
       "(456270, 13)"
      ]
     },
     "execution_count": 7,
     "metadata": {},
     "output_type": "execute_result"
    }
   ],
   "source": [
    "master_df.shape"
   ]
  },
  {
   "cell_type": "code",
   "execution_count": 8,
   "metadata": {},
   "outputs": [
    {
     "data": {
      "text/html": [
       "<div>\n",
       "<style scoped>\n",
       "    .dataframe tbody tr th:only-of-type {\n",
       "        vertical-align: middle;\n",
       "    }\n",
       "\n",
       "    .dataframe tbody tr th {\n",
       "        vertical-align: top;\n",
       "    }\n",
       "\n",
       "    .dataframe thead th {\n",
       "        text-align: right;\n",
       "    }\n",
       "</style>\n",
       "<table border=\"1\" class=\"dataframe\">\n",
       "  <thead>\n",
       "    <tr style=\"text-align: right;\">\n",
       "      <th></th>\n",
       "      <th>candidate_1</th>\n",
       "      <th>candidate_2</th>\n",
       "      <th>candidate_3</th>\n",
       "      <th>candidate_4</th>\n",
       "      <th>num_candidates</th>\n",
       "      <th>noise</th>\n",
       "      <th>filename</th>\n",
       "      <th>candidate_list</th>\n",
       "      <th>candidate_5</th>\n",
       "      <th>ballots</th>\n",
       "      <th>pyrankvote_winner</th>\n",
       "      <th>condorcet_winner</th>\n",
       "      <th>spoiled</th>\n",
       "    </tr>\n",
       "  </thead>\n",
       "  <tbody>\n",
       "    <tr>\n",
       "      <th>0</th>\n",
       "      <td>candidate_1</td>\n",
       "      <td>candidate_2</td>\n",
       "      <td>candidate_3</td>\n",
       "      <td>candidate_4</td>\n",
       "      <td>4</td>\n",
       "      <td>0.0025</td>\n",
       "      <td>election_10-14-2020_17-15-14_4cands_0.0025nois...</td>\n",
       "      <td>[&lt;Candidate('candidate_1')&gt;, &lt;Candidate('candi...</td>\n",
       "      <td>NaN</td>\n",
       "      <td>&lt;Ballot(candidate_1, candidate_2, candidate_3,...</td>\n",
       "      <td>candidate_4</td>\n",
       "      <td>candidate_1</td>\n",
       "      <td>N</td>\n",
       "    </tr>\n",
       "    <tr>\n",
       "      <th>1</th>\n",
       "      <td>candidate_1</td>\n",
       "      <td>candidate_2</td>\n",
       "      <td>candidate_3</td>\n",
       "      <td>candidate_4</td>\n",
       "      <td>4</td>\n",
       "      <td>0.0025</td>\n",
       "      <td>election_10-14-2020_17-15-14_4cands_0.0025nois...</td>\n",
       "      <td>[&lt;Candidate('candidate_1')&gt;, &lt;Candidate('candi...</td>\n",
       "      <td>NaN</td>\n",
       "      <td>&lt;Ballot(candidate_1, candidate_2, candidate_3,...</td>\n",
       "      <td>candidate_4</td>\n",
       "      <td>candidate_1</td>\n",
       "      <td>N</td>\n",
       "    </tr>\n",
       "    <tr>\n",
       "      <th>2</th>\n",
       "      <td>candidate_1</td>\n",
       "      <td>candidate_2</td>\n",
       "      <td>candidate_3</td>\n",
       "      <td>candidate_4</td>\n",
       "      <td>4</td>\n",
       "      <td>0.0025</td>\n",
       "      <td>election_10-14-2020_17-15-14_4cands_0.0025nois...</td>\n",
       "      <td>[&lt;Candidate('candidate_1')&gt;, &lt;Candidate('candi...</td>\n",
       "      <td>NaN</td>\n",
       "      <td>&lt;Ballot(candidate_1, candidate_2, candidate_3,...</td>\n",
       "      <td>candidate_4</td>\n",
       "      <td>candidate_1</td>\n",
       "      <td>N</td>\n",
       "    </tr>\n",
       "    <tr>\n",
       "      <th>3</th>\n",
       "      <td>candidate_1</td>\n",
       "      <td>candidate_2</td>\n",
       "      <td>candidate_3</td>\n",
       "      <td>candidate_4</td>\n",
       "      <td>4</td>\n",
       "      <td>0.0025</td>\n",
       "      <td>election_10-14-2020_17-15-14_4cands_0.0025nois...</td>\n",
       "      <td>[&lt;Candidate('candidate_1')&gt;, &lt;Candidate('candi...</td>\n",
       "      <td>NaN</td>\n",
       "      <td>&lt;Ballot(candidate_1, candidate_2, candidate_3,...</td>\n",
       "      <td>candidate_4</td>\n",
       "      <td>candidate_1</td>\n",
       "      <td>N</td>\n",
       "    </tr>\n",
       "    <tr>\n",
       "      <th>4</th>\n",
       "      <td>candidate_1</td>\n",
       "      <td>candidate_2</td>\n",
       "      <td>candidate_3</td>\n",
       "      <td>candidate_4</td>\n",
       "      <td>4</td>\n",
       "      <td>0.0025</td>\n",
       "      <td>election_10-14-2020_17-15-14_4cands_0.0025nois...</td>\n",
       "      <td>[&lt;Candidate('candidate_1')&gt;, &lt;Candidate('candi...</td>\n",
       "      <td>NaN</td>\n",
       "      <td>&lt;Ballot(candidate_1, candidate_2, candidate_3,...</td>\n",
       "      <td>candidate_4</td>\n",
       "      <td>candidate_1</td>\n",
       "      <td>N</td>\n",
       "    </tr>\n",
       "  </tbody>\n",
       "</table>\n",
       "</div>"
      ],
      "text/plain": [
       "   candidate_1  candidate_2  candidate_3  candidate_4  num_candidates   noise  \\\n",
       "0  candidate_1  candidate_2  candidate_3  candidate_4               4  0.0025   \n",
       "1  candidate_1  candidate_2  candidate_3  candidate_4               4  0.0025   \n",
       "2  candidate_1  candidate_2  candidate_3  candidate_4               4  0.0025   \n",
       "3  candidate_1  candidate_2  candidate_3  candidate_4               4  0.0025   \n",
       "4  candidate_1  candidate_2  candidate_3  candidate_4               4  0.0025   \n",
       "\n",
       "                                            filename  \\\n",
       "0  election_10-14-2020_17-15-14_4cands_0.0025nois...   \n",
       "1  election_10-14-2020_17-15-14_4cands_0.0025nois...   \n",
       "2  election_10-14-2020_17-15-14_4cands_0.0025nois...   \n",
       "3  election_10-14-2020_17-15-14_4cands_0.0025nois...   \n",
       "4  election_10-14-2020_17-15-14_4cands_0.0025nois...   \n",
       "\n",
       "                                      candidate_list candidate_5  \\\n",
       "0  [<Candidate('candidate_1')>, <Candidate('candi...         NaN   \n",
       "1  [<Candidate('candidate_1')>, <Candidate('candi...         NaN   \n",
       "2  [<Candidate('candidate_1')>, <Candidate('candi...         NaN   \n",
       "3  [<Candidate('candidate_1')>, <Candidate('candi...         NaN   \n",
       "4  [<Candidate('candidate_1')>, <Candidate('candi...         NaN   \n",
       "\n",
       "                                             ballots pyrankvote_winner  \\\n",
       "0  <Ballot(candidate_1, candidate_2, candidate_3,...       candidate_4   \n",
       "1  <Ballot(candidate_1, candidate_2, candidate_3,...       candidate_4   \n",
       "2  <Ballot(candidate_1, candidate_2, candidate_3,...       candidate_4   \n",
       "3  <Ballot(candidate_1, candidate_2, candidate_3,...       candidate_4   \n",
       "4  <Ballot(candidate_1, candidate_2, candidate_3,...       candidate_4   \n",
       "\n",
       "  condorcet_winner spoiled  \n",
       "0      candidate_1       N  \n",
       "1      candidate_1       N  \n",
       "2      candidate_1       N  \n",
       "3      candidate_1       N  \n",
       "4      candidate_1       N  "
      ]
     },
     "execution_count": 8,
     "metadata": {},
     "output_type": "execute_result"
    }
   ],
   "source": [
    "master_df.head()"
   ]
  },
  {
   "cell_type": "code",
   "execution_count": null,
   "metadata": {},
   "outputs": [],
   "source": []
  }
 ],
 "metadata": {
  "kernelspec": {
   "display_name": "ranked-choice-voting",
   "language": "python",
   "name": "ranked-choice-voting"
  },
  "language_info": {
   "codemirror_mode": {
    "name": "ipython",
    "version": 3
   },
   "file_extension": ".py",
   "mimetype": "text/x-python",
   "name": "python",
   "nbconvert_exporter": "python",
   "pygments_lexer": "ipython3",
   "version": "3.6.1"
  }
 },
 "nbformat": 4,
 "nbformat_minor": 4
}
