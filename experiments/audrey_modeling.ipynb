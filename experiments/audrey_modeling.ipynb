{
 "cells": [
  {
   "cell_type": "code",
   "execution_count": 3,
   "id": "ready-graduation",
   "metadata": {},
   "outputs": [],
   "source": [
    "import pandas as pd\n"
   ]
  },
  {
   "cell_type": "code",
   "execution_count": 4,
   "id": "accepting-danger",
   "metadata": {},
   "outputs": [],
   "source": [
    "df = pd.read_csv('../data/final_master.csv')"
   ]
  },
  {
   "cell_type": "code",
   "execution_count": 5,
   "id": "legal-oliver",
   "metadata": {},
   "outputs": [
    {
     "data": {
      "text/plain": [
       "(26714, 11)"
      ]
     },
     "execution_count": 5,
     "metadata": {},
     "output_type": "execute_result"
    }
   ],
   "source": [
    "df.shape"
   ]
  },
  {
   "cell_type": "code",
   "execution_count": 6,
   "id": "athletic-sunday",
   "metadata": {},
   "outputs": [
    {
     "data": {
      "text/html": [
       "<div>\n",
       "<style scoped>\n",
       "    .dataframe tbody tr th:only-of-type {\n",
       "        vertical-align: middle;\n",
       "    }\n",
       "\n",
       "    .dataframe tbody tr th {\n",
       "        vertical-align: top;\n",
       "    }\n",
       "\n",
       "    .dataframe thead th {\n",
       "        text-align: right;\n",
       "    }\n",
       "</style>\n",
       "<table border=\"1\" class=\"dataframe\">\n",
       "  <thead>\n",
       "    <tr style=\"text-align: right;\">\n",
       "      <th></th>\n",
       "      <th>round1winnervotes</th>\n",
       "      <th>round2winnervotes</th>\n",
       "      <th>round3winnervotes</th>\n",
       "      <th>round4winnervotes</th>\n",
       "      <th>round5winnervotes</th>\n",
       "      <th>round6winnervotes</th>\n",
       "      <th>round7winnervotes</th>\n",
       "      <th>total_votes_allrounds</th>\n",
       "      <th>num_candidates</th>\n",
       "      <th>noise</th>\n",
       "      <th>spoiled</th>\n",
       "    </tr>\n",
       "  </thead>\n",
       "  <tbody>\n",
       "    <tr>\n",
       "      <th>0</th>\n",
       "      <td>11346</td>\n",
       "      <td>13632</td>\n",
       "      <td>0</td>\n",
       "      <td>0</td>\n",
       "      <td>0</td>\n",
       "      <td>0.0</td>\n",
       "      <td>0.0</td>\n",
       "      <td>24978</td>\n",
       "      <td>3.0</td>\n",
       "      <td>0.020000</td>\n",
       "      <td>1</td>\n",
       "    </tr>\n",
       "    <tr>\n",
       "      <th>1</th>\n",
       "      <td>11220</td>\n",
       "      <td>0</td>\n",
       "      <td>0</td>\n",
       "      <td>0</td>\n",
       "      <td>0</td>\n",
       "      <td>0.0</td>\n",
       "      <td>0.0</td>\n",
       "      <td>11220</td>\n",
       "      <td>3.0</td>\n",
       "      <td>0.030000</td>\n",
       "      <td>1</td>\n",
       "    </tr>\n",
       "    <tr>\n",
       "      <th>2</th>\n",
       "      <td>6243</td>\n",
       "      <td>10050</td>\n",
       "      <td>0</td>\n",
       "      <td>0</td>\n",
       "      <td>0</td>\n",
       "      <td>0.0</td>\n",
       "      <td>0.0</td>\n",
       "      <td>16293</td>\n",
       "      <td>3.0</td>\n",
       "      <td>0.046667</td>\n",
       "      <td>0</td>\n",
       "    </tr>\n",
       "    <tr>\n",
       "      <th>3</th>\n",
       "      <td>5246</td>\n",
       "      <td>5974</td>\n",
       "      <td>6964</td>\n",
       "      <td>8368</td>\n",
       "      <td>10437</td>\n",
       "      <td>13888.0</td>\n",
       "      <td>20829.0</td>\n",
       "      <td>71706</td>\n",
       "      <td>8.0</td>\n",
       "      <td>0.005000</td>\n",
       "      <td>1</td>\n",
       "    </tr>\n",
       "    <tr>\n",
       "      <th>4</th>\n",
       "      <td>17535</td>\n",
       "      <td>24995</td>\n",
       "      <td>0</td>\n",
       "      <td>0</td>\n",
       "      <td>0</td>\n",
       "      <td>0.0</td>\n",
       "      <td>0.0</td>\n",
       "      <td>42530</td>\n",
       "      <td>3.0</td>\n",
       "      <td>0.033333</td>\n",
       "      <td>1</td>\n",
       "    </tr>\n",
       "  </tbody>\n",
       "</table>\n",
       "</div>"
      ],
      "text/plain": [
       "   round1winnervotes  round2winnervotes  round3winnervotes  round4winnervotes  \\\n",
       "0              11346              13632                  0                  0   \n",
       "1              11220                  0                  0                  0   \n",
       "2               6243              10050                  0                  0   \n",
       "3               5246               5974               6964               8368   \n",
       "4              17535              24995                  0                  0   \n",
       "\n",
       "   round5winnervotes  round6winnervotes  round7winnervotes  \\\n",
       "0                  0                0.0                0.0   \n",
       "1                  0                0.0                0.0   \n",
       "2                  0                0.0                0.0   \n",
       "3              10437            13888.0            20829.0   \n",
       "4                  0                0.0                0.0   \n",
       "\n",
       "   total_votes_allrounds  num_candidates     noise  spoiled  \n",
       "0                  24978             3.0  0.020000        1  \n",
       "1                  11220             3.0  0.030000        1  \n",
       "2                  16293             3.0  0.046667        0  \n",
       "3                  71706             8.0  0.005000        1  \n",
       "4                  42530             3.0  0.033333        1  "
      ]
     },
     "execution_count": 6,
     "metadata": {},
     "output_type": "execute_result"
    }
   ],
   "source": [
    "df.head()"
   ]
  },
  {
   "cell_type": "code",
   "execution_count": 7,
   "id": "greater-variable",
   "metadata": {},
   "outputs": [
    {
     "data": {
      "text/html": [
       "<div>\n",
       "<style scoped>\n",
       "    .dataframe tbody tr th:only-of-type {\n",
       "        vertical-align: middle;\n",
       "    }\n",
       "\n",
       "    .dataframe tbody tr th {\n",
       "        vertical-align: top;\n",
       "    }\n",
       "\n",
       "    .dataframe thead th {\n",
       "        text-align: right;\n",
       "    }\n",
       "</style>\n",
       "<table border=\"1\" class=\"dataframe\">\n",
       "  <thead>\n",
       "    <tr style=\"text-align: right;\">\n",
       "      <th></th>\n",
       "      <th>round1winnervotes</th>\n",
       "      <th>round2winnervotes</th>\n",
       "      <th>round3winnervotes</th>\n",
       "      <th>round4winnervotes</th>\n",
       "      <th>round5winnervotes</th>\n",
       "      <th>round6winnervotes</th>\n",
       "      <th>round7winnervotes</th>\n",
       "      <th>total_votes_allrounds</th>\n",
       "      <th>num_candidates</th>\n",
       "      <th>noise</th>\n",
       "      <th>spoiled</th>\n",
       "    </tr>\n",
       "  </thead>\n",
       "  <tbody>\n",
       "    <tr>\n",
       "      <th>7398</th>\n",
       "      <td>4843</td>\n",
       "      <td>5772</td>\n",
       "      <td>7406</td>\n",
       "      <td>9746</td>\n",
       "      <td>14340</td>\n",
       "      <td>0.0</td>\n",
       "      <td>NaN</td>\n",
       "      <td>42107</td>\n",
       "      <td>6.0</td>\n",
       "      <td>0.021667</td>\n",
       "      <td>1</td>\n",
       "    </tr>\n",
       "    <tr>\n",
       "      <th>7399</th>\n",
       "      <td>5805</td>\n",
       "      <td>6292</td>\n",
       "      <td>0</td>\n",
       "      <td>0</td>\n",
       "      <td>0</td>\n",
       "      <td>0.0</td>\n",
       "      <td>NaN</td>\n",
       "      <td>12097</td>\n",
       "      <td>3.0</td>\n",
       "      <td>0.036667</td>\n",
       "      <td>1</td>\n",
       "    </tr>\n",
       "    <tr>\n",
       "      <th>7400</th>\n",
       "      <td>6686</td>\n",
       "      <td>10493</td>\n",
       "      <td>0</td>\n",
       "      <td>0</td>\n",
       "      <td>0</td>\n",
       "      <td>0.0</td>\n",
       "      <td>NaN</td>\n",
       "      <td>17179</td>\n",
       "      <td>3.0</td>\n",
       "      <td>0.000000</td>\n",
       "      <td>1</td>\n",
       "    </tr>\n",
       "    <tr>\n",
       "      <th>7401</th>\n",
       "      <td>8063</td>\n",
       "      <td>11588</td>\n",
       "      <td>15108</td>\n",
       "      <td>0</td>\n",
       "      <td>0</td>\n",
       "      <td>0.0</td>\n",
       "      <td>NaN</td>\n",
       "      <td>34759</td>\n",
       "      <td>4.0</td>\n",
       "      <td>0.020000</td>\n",
       "      <td>1</td>\n",
       "    </tr>\n",
       "    <tr>\n",
       "      <th>7402</th>\n",
       "      <td>3168</td>\n",
       "      <td>3756</td>\n",
       "      <td>4592</td>\n",
       "      <td>6095</td>\n",
       "      <td>9285</td>\n",
       "      <td>0.0</td>\n",
       "      <td>NaN</td>\n",
       "      <td>26896</td>\n",
       "      <td>6.0</td>\n",
       "      <td>0.018333</td>\n",
       "      <td>1</td>\n",
       "    </tr>\n",
       "    <tr>\n",
       "      <th>...</th>\n",
       "      <td>...</td>\n",
       "      <td>...</td>\n",
       "      <td>...</td>\n",
       "      <td>...</td>\n",
       "      <td>...</td>\n",
       "      <td>...</td>\n",
       "      <td>...</td>\n",
       "      <td>...</td>\n",
       "      <td>...</td>\n",
       "      <td>...</td>\n",
       "      <td>...</td>\n",
       "    </tr>\n",
       "    <tr>\n",
       "      <th>26709</th>\n",
       "      <td>8603</td>\n",
       "      <td>12067</td>\n",
       "      <td>0</td>\n",
       "      <td>0</td>\n",
       "      <td>0</td>\n",
       "      <td>0.0</td>\n",
       "      <td>NaN</td>\n",
       "      <td>20670</td>\n",
       "      <td>3.0</td>\n",
       "      <td>0.016667</td>\n",
       "      <td>1</td>\n",
       "    </tr>\n",
       "    <tr>\n",
       "      <th>26710</th>\n",
       "      <td>2962</td>\n",
       "      <td>3429</td>\n",
       "      <td>4105</td>\n",
       "      <td>5114</td>\n",
       "      <td>6856</td>\n",
       "      <td>10260.0</td>\n",
       "      <td>NaN</td>\n",
       "      <td>32726</td>\n",
       "      <td>7.0</td>\n",
       "      <td>0.008571</td>\n",
       "      <td>1</td>\n",
       "    </tr>\n",
       "    <tr>\n",
       "      <th>26711</th>\n",
       "      <td>18078</td>\n",
       "      <td>26186</td>\n",
       "      <td>0</td>\n",
       "      <td>0</td>\n",
       "      <td>0</td>\n",
       "      <td>0.0</td>\n",
       "      <td>NaN</td>\n",
       "      <td>44264</td>\n",
       "      <td>3.0</td>\n",
       "      <td>0.043333</td>\n",
       "      <td>1</td>\n",
       "    </tr>\n",
       "    <tr>\n",
       "      <th>26712</th>\n",
       "      <td>2776</td>\n",
       "      <td>3592</td>\n",
       "      <td>4688</td>\n",
       "      <td>6703</td>\n",
       "      <td>0</td>\n",
       "      <td>0.0</td>\n",
       "      <td>NaN</td>\n",
       "      <td>17759</td>\n",
       "      <td>5.0</td>\n",
       "      <td>0.016000</td>\n",
       "      <td>0</td>\n",
       "    </tr>\n",
       "    <tr>\n",
       "      <th>26713</th>\n",
       "      <td>8918</td>\n",
       "      <td>10452</td>\n",
       "      <td>14035</td>\n",
       "      <td>0</td>\n",
       "      <td>0</td>\n",
       "      <td>0.0</td>\n",
       "      <td>NaN</td>\n",
       "      <td>33405</td>\n",
       "      <td>4.0</td>\n",
       "      <td>0.030000</td>\n",
       "      <td>1</td>\n",
       "    </tr>\n",
       "  </tbody>\n",
       "</table>\n",
       "<p>4280 rows × 11 columns</p>\n",
       "</div>"
      ],
      "text/plain": [
       "       round1winnervotes  round2winnervotes  round3winnervotes  \\\n",
       "7398                4843               5772               7406   \n",
       "7399                5805               6292                  0   \n",
       "7400                6686              10493                  0   \n",
       "7401                8063              11588              15108   \n",
       "7402                3168               3756               4592   \n",
       "...                  ...                ...                ...   \n",
       "26709               8603              12067                  0   \n",
       "26710               2962               3429               4105   \n",
       "26711              18078              26186                  0   \n",
       "26712               2776               3592               4688   \n",
       "26713               8918              10452              14035   \n",
       "\n",
       "       round4winnervotes  round5winnervotes  round6winnervotes  \\\n",
       "7398                9746              14340                0.0   \n",
       "7399                   0                  0                0.0   \n",
       "7400                   0                  0                0.0   \n",
       "7401                   0                  0                0.0   \n",
       "7402                6095               9285                0.0   \n",
       "...                  ...                ...                ...   \n",
       "26709                  0                  0                0.0   \n",
       "26710               5114               6856            10260.0   \n",
       "26711                  0                  0                0.0   \n",
       "26712               6703                  0                0.0   \n",
       "26713                  0                  0                0.0   \n",
       "\n",
       "       round7winnervotes  total_votes_allrounds  num_candidates     noise  \\\n",
       "7398                 NaN                  42107             6.0  0.021667   \n",
       "7399                 NaN                  12097             3.0  0.036667   \n",
       "7400                 NaN                  17179             3.0  0.000000   \n",
       "7401                 NaN                  34759             4.0  0.020000   \n",
       "7402                 NaN                  26896             6.0  0.018333   \n",
       "...                  ...                    ...             ...       ...   \n",
       "26709                NaN                  20670             3.0  0.016667   \n",
       "26710                NaN                  32726             7.0  0.008571   \n",
       "26711                NaN                  44264             3.0  0.043333   \n",
       "26712                NaN                  17759             5.0  0.016000   \n",
       "26713                NaN                  33405             4.0  0.030000   \n",
       "\n",
       "       spoiled  \n",
       "7398         1  \n",
       "7399         1  \n",
       "7400         1  \n",
       "7401         1  \n",
       "7402         1  \n",
       "...        ...  \n",
       "26709        1  \n",
       "26710        1  \n",
       "26711        1  \n",
       "26712        0  \n",
       "26713        1  \n",
       "\n",
       "[4280 rows x 11 columns]"
      ]
     },
     "execution_count": 7,
     "metadata": {},
     "output_type": "execute_result"
    }
   ],
   "source": [
    "df[df.isna().any(axis=1)]"
   ]
  },
  {
   "cell_type": "code",
   "execution_count": 8,
   "id": "introductory-wesley",
   "metadata": {},
   "outputs": [],
   "source": [
    "# Replacing NaNs w/0s:\n",
    "\n",
    "import numpy as np\n",
    "\n",
    "df = df.replace(np.nan, 0)"
   ]
  },
  {
   "cell_type": "markdown",
   "id": "crazy-insulin",
   "metadata": {},
   "source": [
    "---"
   ]
  },
  {
   "cell_type": "markdown",
   "id": "atmospheric-leave",
   "metadata": {},
   "source": [
    "### Making independent vars/dependent var"
   ]
  },
  {
   "cell_type": "code",
   "execution_count": 9,
   "id": "close-colon",
   "metadata": {},
   "outputs": [],
   "source": [
    "X = df.iloc[:, :-1].values"
   ]
  },
  {
   "cell_type": "code",
   "execution_count": 10,
   "id": "abroad-measure",
   "metadata": {},
   "outputs": [],
   "source": [
    "y = df['spoiled'].values"
   ]
  },
  {
   "cell_type": "markdown",
   "id": "lovely-footwear",
   "metadata": {},
   "source": [
    "## ~LogReg~"
   ]
  },
  {
   "cell_type": "code",
   "execution_count": 8,
   "id": "elementary-genre",
   "metadata": {},
   "outputs": [],
   "source": [
    "# from sklearn.linear_model import LogisticRegression"
   ]
  },
  {
   "cell_type": "code",
   "execution_count": 71,
   "id": "surprised-thomson",
   "metadata": {},
   "outputs": [],
   "source": [
    "# clf = LogisticRegression(random_state=0).fit(X, y)"
   ]
  },
  {
   "cell_type": "code",
   "execution_count": 1,
   "id": "growing-victim",
   "metadata": {},
   "outputs": [],
   "source": [
    "# clf"
   ]
  },
  {
   "cell_type": "code",
   "execution_count": 2,
   "id": "verbal-fancy",
   "metadata": {},
   "outputs": [],
   "source": [
    "# clf.score(X, y)  # score = mean accuracy"
   ]
  },
  {
   "cell_type": "markdown",
   "id": "coastal-lloyd",
   "metadata": {},
   "source": [
    "## Prepping the data for modeling"
   ]
  },
  {
   "cell_type": "code",
   "execution_count": 27,
   "id": "communist-latter",
   "metadata": {},
   "outputs": [],
   "source": [
    "# https://towardsdatascience.com/random-forest-in-python-24d0893d51c0\n",
    "\n",
    "from sklearn.ensemble import RandomForestClassifier"
   ]
  },
  {
   "cell_type": "markdown",
   "id": "sporting-element",
   "metadata": {},
   "source": [
    "### With SMOTE\n",
    "\n",
    "[Article](https://machinelearningmastery.com/smote-oversampling-for-imbalanced-classification/)\n",
    "\n",
    "Specifically, a random example from the minority class is first chosen. Then k of the nearest neighbors for that example are found (typically k=5). A randomly selected neighbor is chosen and a synthetic example is created at a randomly selected point between the two examples in feature space.\n",
    "\n",
    "[Random Forest models should *not* have imbalanced classes](https://stats.stackexchange.com/questions/242833/is-random-forest-a-good-option-for-unbalanced-data-classification#:~:text=2%20Answers&text=It's%20not%20a%20good%20option,the%20data%20(with%20replacement).)"
   ]
  },
  {
   "cell_type": "code",
   "execution_count": null,
   "id": "animal-record",
   "metadata": {},
   "outputs": [],
   "source": [
    "from sklearn.model_selection import train_test_split\n",
    "\n",
    "train_X, test_X, train_y, test_y = train_test_split(X, y, test_size = 0.20, random_state = 0)"
   ]
  },
  {
   "cell_type": "code",
   "execution_count": 12,
   "id": "immediate-presence",
   "metadata": {},
   "outputs": [
    {
     "name": "stdout",
     "output_type": "stream",
     "text": [
      "(21371, 10)\n",
      "(21371,)\n",
      "(5343, 10)\n",
      "(5343,)\n"
     ]
    }
   ],
   "source": [
    "print(train_X.shape)\n",
    "print(train_y.shape)\n",
    "\n",
    "print(test_X.shape)\n",
    "print(test_y.shape)\n"
   ]
  },
  {
   "cell_type": "code",
   "execution_count": 22,
   "id": "middle-cursor",
   "metadata": {},
   "outputs": [],
   "source": [
    "from collections import Counter"
   ]
  },
  {
   "cell_type": "code",
   "execution_count": 28,
   "id": "essential-gossip",
   "metadata": {},
   "outputs": [
    {
     "data": {
      "text/plain": [
       "Counter({0: 2939, 1: 18432})"
      ]
     },
     "execution_count": 28,
     "metadata": {},
     "output_type": "execute_result"
    }
   ],
   "source": [
    "Counter(train_y)"
   ]
  },
  {
   "cell_type": "code",
   "execution_count": 17,
   "id": "appreciated-coffee",
   "metadata": {},
   "outputs": [],
   "source": [
    "# https://imbalanced-learn.org/stable/references/generated/imblearn.over_sampling.SMOTE.html\n",
    "\n",
    "import imblearn"
   ]
  },
  {
   "cell_type": "code",
   "execution_count": 29,
   "id": "banner-sucking",
   "metadata": {},
   "outputs": [],
   "source": [
    "oversample = imblearn.over_sampling.SMOTE()"
   ]
  },
  {
   "cell_type": "code",
   "execution_count": 32,
   "id": "ordered-particle",
   "metadata": {},
   "outputs": [],
   "source": [
    "smote_train_X, smote_train_y = oversample.fit_resample(train_X, train_y)"
   ]
  },
  {
   "cell_type": "code",
   "execution_count": 33,
   "id": "western-stockholm",
   "metadata": {},
   "outputs": [
    {
     "data": {
      "text/plain": [
       "Counter({0: 18432, 1: 18432})"
      ]
     },
     "execution_count": 33,
     "metadata": {},
     "output_type": "execute_result"
    }
   ],
   "source": [
    "Counter(smote_train_y)"
   ]
  },
  {
   "cell_type": "code",
   "execution_count": null,
   "id": "accomplished-douglas",
   "metadata": {},
   "outputs": [],
   "source": []
  },
  {
   "cell_type": "markdown",
   "id": "cardiovascular-oriental",
   "metadata": {},
   "source": [
    "### With stratified k-fold cross-validation"
   ]
  },
  {
   "cell_type": "code",
   "execution_count": 35,
   "id": "altered-limit",
   "metadata": {},
   "outputs": [],
   "source": [
    "# https://scikit-learn.org/stable/modules/generated/sklearn.model_selection.StratifiedKFold.html\n",
    "    \n",
    "from sklearn.model_selection import StratifiedKFold"
   ]
  },
  {
   "cell_type": "code",
   "execution_count": 45,
   "id": "dutch-curve",
   "metadata": {},
   "outputs": [],
   "source": [
    "skf = StratifiedKFold()"
   ]
  },
  {
   "cell_type": "code",
   "execution_count": 46,
   "id": "rotary-channel",
   "metadata": {},
   "outputs": [
    {
     "data": {
      "text/plain": [
       "5"
      ]
     },
     "execution_count": 46,
     "metadata": {},
     "output_type": "execute_result"
    }
   ],
   "source": [
    "skf.get_n_splits(X, y)"
   ]
  },
  {
   "cell_type": "code",
   "execution_count": 47,
   "id": "comic-heading",
   "metadata": {},
   "outputs": [
    {
     "name": "stdout",
     "output_type": "stream",
     "text": [
      "TRAIN: [ 5302  5303  5304 ... 26711 26712 26713] TEST: [   0    1    2 ... 5595 5601 5605]\n",
      "TRAIN: [    0     1     2 ... 26711 26712 26713] TEST: [ 5302  5303  5304 ... 10946 10974 10976]\n",
      "TRAIN: [    0     1     2 ... 26711 26712 26713] TEST: [10641 10642 10643 ... 16032 16033 16034]\n",
      "TRAIN: [    0     1     2 ... 26711 26712 26713] TEST: [15963 15980 15983 ... 21411 21412 21429]\n",
      "TRAIN: [    0     1     2 ... 21411 21412 21429] TEST: [21366 21367 21368 ... 26711 26712 26713]\n"
     ]
    }
   ],
   "source": [
    "for train_index, test_index in skf.split(X, y):\n",
    "    print(\"TRAIN:\", train_index, \"TEST:\", test_index)\n",
    "    skf_X_train, skf_X_test = X[train_index], X[test_index]\n",
    "    skf_y_train, skf_y_test = y[train_index], y[test_index]\n",
    "    \n",
    "# how does this show me an equal distribution of classes in each split?"
   ]
  },
  {
   "cell_type": "code",
   "execution_count": 44,
   "id": "official-infrared",
   "metadata": {},
   "outputs": [
    {
     "name": "stdout",
     "output_type": "stream",
     "text": [
      "(5342, 10)\n",
      "(21372, 10)\n",
      "(5342,)\n",
      "(21372,)\n"
     ]
    }
   ],
   "source": [
    "print(skf_X_test.shape)\n",
    "print(skf_X_train.shape)\n",
    "print(skf_y_test.shape)\n",
    "print(skf_y_train.shape)"
   ]
  },
  {
   "cell_type": "code",
   "execution_count": null,
   "id": "eight-sally",
   "metadata": {},
   "outputs": [],
   "source": []
  },
  {
   "cell_type": "code",
   "execution_count": null,
   "id": "taken-leather",
   "metadata": {},
   "outputs": [],
   "source": []
  },
  {
   "cell_type": "markdown",
   "id": "massive-fountain",
   "metadata": {},
   "source": [
    "## Modeling: Random Forest"
   ]
  },
  {
   "cell_type": "markdown",
   "id": "accompanied-somerset",
   "metadata": {},
   "source": [
    "### Random forest w/SMOTE train data + regular test data"
   ]
  },
  {
   "cell_type": "code",
   "execution_count": 52,
   "id": "palestinian-aircraft",
   "metadata": {},
   "outputs": [],
   "source": [
    "from sklearn.ensemble import RandomForestClassifier as rf\n",
    "\n",
    "rf_smote = RandomForestClassifier(n_estimators = 1000, random_state = 42)"
   ]
  },
  {
   "cell_type": "code",
   "execution_count": 54,
   "id": "lucky-ranking",
   "metadata": {},
   "outputs": [
    {
     "data": {
      "text/plain": [
       "RandomForestClassifier(n_estimators=1000, random_state=42)"
      ]
     },
     "execution_count": 54,
     "metadata": {},
     "output_type": "execute_result"
    }
   ],
   "source": [
    "rf_smote.fit(smote_train_X, smote_train_y)"
   ]
  },
  {
   "cell_type": "code",
   "execution_count": 56,
   "id": "magnetic-banking",
   "metadata": {},
   "outputs": [],
   "source": [
    "# Use the forest's predict method on the test data\n",
    "predictions = rf_smote.predict(test_X)\n",
    "\n",
    "# Calculate the absolute errors\n",
    "errors = abs(predictions - test_y)"
   ]
  },
  {
   "cell_type": "code",
   "execution_count": 57,
   "id": "known-thread",
   "metadata": {},
   "outputs": [
    {
     "data": {
      "text/plain": [
       "0.22627737226277372"
      ]
     },
     "execution_count": 57,
     "metadata": {},
     "output_type": "execute_result"
    }
   ],
   "source": [
    "errors.mean()"
   ]
  },
  {
   "cell_type": "code",
   "execution_count": 58,
   "id": "parliamentary-volleyball",
   "metadata": {},
   "outputs": [],
   "source": [
    "fi = pd.DataFrame({'feature': list(df.iloc[:, :-1].columns),\n",
    "                   'importance': rf_smote.feature_importances_}).\\\n",
    "                    sort_values('importance', ascending = False)"
   ]
  },
  {
   "cell_type": "code",
   "execution_count": 59,
   "id": "pediatric-stress",
   "metadata": {},
   "outputs": [
    {
     "data": {
      "text/html": [
       "<div>\n",
       "<style scoped>\n",
       "    .dataframe tbody tr th:only-of-type {\n",
       "        vertical-align: middle;\n",
       "    }\n",
       "\n",
       "    .dataframe tbody tr th {\n",
       "        vertical-align: top;\n",
       "    }\n",
       "\n",
       "    .dataframe thead th {\n",
       "        text-align: right;\n",
       "    }\n",
       "</style>\n",
       "<table border=\"1\" class=\"dataframe\">\n",
       "  <thead>\n",
       "    <tr style=\"text-align: right;\">\n",
       "      <th></th>\n",
       "      <th>feature</th>\n",
       "      <th>importance</th>\n",
       "    </tr>\n",
       "  </thead>\n",
       "  <tbody>\n",
       "    <tr>\n",
       "      <th>9</th>\n",
       "      <td>noise</td>\n",
       "      <td>0.250010</td>\n",
       "    </tr>\n",
       "    <tr>\n",
       "      <th>1</th>\n",
       "      <td>round2winnervotes</td>\n",
       "      <td>0.229952</td>\n",
       "    </tr>\n",
       "    <tr>\n",
       "      <th>0</th>\n",
       "      <td>round1winnervotes</td>\n",
       "      <td>0.193802</td>\n",
       "    </tr>\n",
       "    <tr>\n",
       "      <th>7</th>\n",
       "      <td>total_votes_allrounds</td>\n",
       "      <td>0.173101</td>\n",
       "    </tr>\n",
       "    <tr>\n",
       "      <th>2</th>\n",
       "      <td>round3winnervotes</td>\n",
       "      <td>0.091137</td>\n",
       "    </tr>\n",
       "    <tr>\n",
       "      <th>3</th>\n",
       "      <td>round4winnervotes</td>\n",
       "      <td>0.032416</td>\n",
       "    </tr>\n",
       "    <tr>\n",
       "      <th>8</th>\n",
       "      <td>num_candidates</td>\n",
       "      <td>0.014839</td>\n",
       "    </tr>\n",
       "    <tr>\n",
       "      <th>4</th>\n",
       "      <td>round5winnervotes</td>\n",
       "      <td>0.010148</td>\n",
       "    </tr>\n",
       "    <tr>\n",
       "      <th>5</th>\n",
       "      <td>round6winnervotes</td>\n",
       "      <td>0.003654</td>\n",
       "    </tr>\n",
       "    <tr>\n",
       "      <th>6</th>\n",
       "      <td>round7winnervotes</td>\n",
       "      <td>0.000940</td>\n",
       "    </tr>\n",
       "  </tbody>\n",
       "</table>\n",
       "</div>"
      ],
      "text/plain": [
       "                 feature  importance\n",
       "9                  noise    0.250010\n",
       "1      round2winnervotes    0.229952\n",
       "0      round1winnervotes    0.193802\n",
       "7  total_votes_allrounds    0.173101\n",
       "2      round3winnervotes    0.091137\n",
       "3      round4winnervotes    0.032416\n",
       "8         num_candidates    0.014839\n",
       "4      round5winnervotes    0.010148\n",
       "5      round6winnervotes    0.003654\n",
       "6      round7winnervotes    0.000940"
      ]
     },
     "execution_count": 59,
     "metadata": {},
     "output_type": "execute_result"
    }
   ],
   "source": [
    "fi"
   ]
  },
  {
   "cell_type": "code",
   "execution_count": 60,
   "id": "complimentary-apollo",
   "metadata": {},
   "outputs": [
    {
     "data": {
      "text/plain": [
       "0.7737226277372263"
      ]
     },
     "execution_count": 60,
     "metadata": {},
     "output_type": "execute_result"
    }
   ],
   "source": [
    "rf_smote.score(test_X, test_y)  # mean accuracy"
   ]
  },
  {
   "cell_type": "code",
   "execution_count": 61,
   "id": "sudden-government",
   "metadata": {},
   "outputs": [
    {
     "name": "stdout",
     "output_type": "stream",
     "text": [
      "[[ 202  574]\n",
      " [ 635 3932]]\n"
     ]
    }
   ],
   "source": [
    "from sklearn.metrics import confusion_matrix\n",
    "\n",
    "conf_mat = confusion_matrix(test_y, predictions)\n",
    "print(conf_mat)"
   ]
  },
  {
   "cell_type": "code",
   "execution_count": 63,
   "id": "requested-macro",
   "metadata": {},
   "outputs": [
    {
     "name": "stdout",
     "output_type": "stream",
     "text": [
      "[[0.26030928 0.73969072]\n",
      " [0.13904095 0.86095905]]\n"
     ]
    },
    {
     "data": {
      "image/png": "[encoded data removed]",
      "text/plain": [
       "<Figure size 432x288 with 2 Axes>"
      ]
     },
     "metadata": {
      "needs_background": "light"
     },
     "output_type": "display_data"
    }
   ],
   "source": [
    "from sklearn.metrics import confusion_matrix, plot_confusion_matrix\n",
    "import matplotlib.pyplot as plt \n",
    "\n",
    "conf_mat = confusion_matrix(test_y, predictions, normalize='true')\n",
    "print(conf_mat)\n",
    "\n",
    "\n",
    "disp = plot_confusion_matrix(rf_smote, test_X, test_y, cmap=plt.cm.Blues, normalize='true')\n"
   ]
  },
  {
   "cell_type": "code",
   "execution_count": null,
   "id": "retired-canal",
   "metadata": {},
   "outputs": [],
   "source": []
  },
  {
   "cell_type": "code",
   "execution_count": null,
   "id": "governing-arrival",
   "metadata": {},
   "outputs": [],
   "source": []
  },
  {
   "cell_type": "markdown",
   "id": "urban-alloy",
   "metadata": {},
   "source": [
    "### Random forest w/stratified kfold cross-validation train/test data"
   ]
  },
  {
   "cell_type": "code",
   "execution_count": 64,
   "id": "boring-brooks",
   "metadata": {},
   "outputs": [],
   "source": [
    "rf_skf = RandomForestClassifier(n_estimators = 1000, random_state = 43)"
   ]
  },
  {
   "cell_type": "code",
   "execution_count": 65,
   "id": "devoted-behavior",
   "metadata": {},
   "outputs": [
    {
     "data": {
      "text/plain": [
       "RandomForestClassifier(n_estimators=1000, random_state=43)"
      ]
     },
     "execution_count": 65,
     "metadata": {},
     "output_type": "execute_result"
    }
   ],
   "source": [
    "rf_skf.fit(skf_X_train, skf_y_train)"
   ]
  },
  {
   "cell_type": "code",
   "execution_count": 69,
   "id": "neural-prototype",
   "metadata": {},
   "outputs": [],
   "source": [
    "# Use the forest's predict method on the test data\n",
    "predictions = rf_skf.predict(skf_X_test)\n",
    "\n",
    "\n",
    "# Calculate the absolute errors\n",
    "errors = abs(predictions - skf_y_test)"
   ]
  },
  {
   "cell_type": "code",
   "execution_count": 70,
   "id": "personal-bunch",
   "metadata": {},
   "outputs": [
    {
     "data": {
      "text/plain": [
       "0.1538749532010483"
      ]
     },
     "execution_count": 70,
     "metadata": {},
     "output_type": "execute_result"
    }
   ],
   "source": [
    "errors.mean()  # shittier mean error than w/SMOTE"
   ]
  },
  {
   "cell_type": "code",
   "execution_count": 71,
   "id": "confused-advocacy",
   "metadata": {},
   "outputs": [],
   "source": [
    "fi = pd.DataFrame({'feature': list(df.iloc[:, :-1].columns),\n",
    "                   'importance': rf_skf.feature_importances_}).\\\n",
    "                    sort_values('importance', ascending = False)"
   ]
  },
  {
   "cell_type": "code",
   "execution_count": 72,
   "id": "immune-florida",
   "metadata": {},
   "outputs": [
    {
     "data": {
      "text/html": [
       "<div>\n",
       "<style scoped>\n",
       "    .dataframe tbody tr th:only-of-type {\n",
       "        vertical-align: middle;\n",
       "    }\n",
       "\n",
       "    .dataframe tbody tr th {\n",
       "        vertical-align: top;\n",
       "    }\n",
       "\n",
       "    .dataframe thead th {\n",
       "        text-align: right;\n",
       "    }\n",
       "</style>\n",
       "<table border=\"1\" class=\"dataframe\">\n",
       "  <thead>\n",
       "    <tr style=\"text-align: right;\">\n",
       "      <th></th>\n",
       "      <th>feature</th>\n",
       "      <th>importance</th>\n",
       "    </tr>\n",
       "  </thead>\n",
       "  <tbody>\n",
       "    <tr>\n",
       "      <th>1</th>\n",
       "      <td>round2winnervotes</td>\n",
       "      <td>0.247290</td>\n",
       "    </tr>\n",
       "    <tr>\n",
       "      <th>0</th>\n",
       "      <td>round1winnervotes</td>\n",
       "      <td>0.242164</td>\n",
       "    </tr>\n",
       "    <tr>\n",
       "      <th>7</th>\n",
       "      <td>total_votes_allrounds</td>\n",
       "      <td>0.228934</td>\n",
       "    </tr>\n",
       "    <tr>\n",
       "      <th>2</th>\n",
       "      <td>round3winnervotes</td>\n",
       "      <td>0.113654</td>\n",
       "    </tr>\n",
       "    <tr>\n",
       "      <th>9</th>\n",
       "      <td>noise</td>\n",
       "      <td>0.092076</td>\n",
       "    </tr>\n",
       "    <tr>\n",
       "      <th>3</th>\n",
       "      <td>round4winnervotes</td>\n",
       "      <td>0.046600</td>\n",
       "    </tr>\n",
       "    <tr>\n",
       "      <th>4</th>\n",
       "      <td>round5winnervotes</td>\n",
       "      <td>0.014337</td>\n",
       "    </tr>\n",
       "    <tr>\n",
       "      <th>8</th>\n",
       "      <td>num_candidates</td>\n",
       "      <td>0.007893</td>\n",
       "    </tr>\n",
       "    <tr>\n",
       "      <th>5</th>\n",
       "      <td>round6winnervotes</td>\n",
       "      <td>0.005586</td>\n",
       "    </tr>\n",
       "    <tr>\n",
       "      <th>6</th>\n",
       "      <td>round7winnervotes</td>\n",
       "      <td>0.001466</td>\n",
       "    </tr>\n",
       "  </tbody>\n",
       "</table>\n",
       "</div>"
      ],
      "text/plain": [
       "                 feature  importance\n",
       "1      round2winnervotes    0.247290\n",
       "0      round1winnervotes    0.242164\n",
       "7  total_votes_allrounds    0.228934\n",
       "2      round3winnervotes    0.113654\n",
       "9                  noise    0.092076\n",
       "3      round4winnervotes    0.046600\n",
       "4      round5winnervotes    0.014337\n",
       "8         num_candidates    0.007893\n",
       "5      round6winnervotes    0.005586\n",
       "6      round7winnervotes    0.001466"
      ]
     },
     "execution_count": 72,
     "metadata": {},
     "output_type": "execute_result"
    }
   ],
   "source": [
    "fi"
   ]
  },
  {
   "cell_type": "code",
   "execution_count": 73,
   "id": "verified-penny",
   "metadata": {},
   "outputs": [
    {
     "data": {
      "text/plain": [
       "0.8461250467989517"
      ]
     },
     "execution_count": 73,
     "metadata": {},
     "output_type": "execute_result"
    }
   ],
   "source": [
    "rf_skf.score(skf_X_test, skf_y_test)  # but better accuracy than SMOTE...."
   ]
  },
  {
   "cell_type": "code",
   "execution_count": 74,
   "id": "considered-possession",
   "metadata": {},
   "outputs": [
    {
     "name": "stdout",
     "output_type": "stream",
     "text": [
      "[[  51  692]\n",
      " [ 130 4469]]\n"
     ]
    }
   ],
   "source": [
    "from sklearn.metrics import confusion_matrix\n",
    "\n",
    "conf_mat = confusion_matrix(skf_y_test, predictions)\n",
    "print(conf_mat)"
   ]
  },
  {
   "cell_type": "code",
   "execution_count": 75,
   "id": "adjusted-humor",
   "metadata": {},
   "outputs": [
    {
     "name": "stdout",
     "output_type": "stream",
     "text": [
      "[[0.06864065 0.93135935]\n",
      " [0.02826701 0.97173299]]\n"
     ]
    },
    {
     "data": {
      "image/png": "[encoded data removed]",
      "text/plain": [
       "<Figure size 432x288 with 2 Axes>"
      ]
     },
     "metadata": {
      "needs_background": "light"
     },
     "output_type": "display_data"
    }
   ],
   "source": [
    "from sklearn.metrics import confusion_matrix, plot_confusion_matrix\n",
    "import matplotlib.pyplot as plt \n",
    "\n",
    "conf_mat = confusion_matrix(skf_y_test, predictions, normalize='true')\n",
    "print(conf_mat)\n",
    "\n",
    "\n",
    "disp = plot_confusion_matrix(rf_skf, skf_X_test, skf_y_test, cmap=plt.cm.Blues, normalize='true')\n",
    "\n",
    "\n",
    "# uh oh, that's real crappy performance"
   ]
  },
  {
   "cell_type": "code",
   "execution_count": null,
   "id": "running-cliff",
   "metadata": {},
   "outputs": [],
   "source": []
  },
  {
   "cell_type": "markdown",
   "id": "civil-alberta",
   "metadata": {},
   "source": [
    "### Random forest w/regular data"
   ]
  },
  {
   "cell_type": "code",
   "execution_count": 76,
   "id": "senior-astronomy",
   "metadata": {},
   "outputs": [],
   "source": [
    "rf_regular = RandomForestClassifier(n_estimators = 1000, random_state = 44)"
   ]
  },
  {
   "cell_type": "code",
   "execution_count": 78,
   "id": "fifth-hotel",
   "metadata": {},
   "outputs": [
    {
     "data": {
      "text/plain": [
       "RandomForestClassifier(n_estimators=1000, random_state=44)"
      ]
     },
     "execution_count": 78,
     "metadata": {},
     "output_type": "execute_result"
    }
   ],
   "source": [
    "rf_regular.fit(train_X, train_y)"
   ]
  },
  {
   "cell_type": "code",
   "execution_count": 79,
   "id": "bright-transparency",
   "metadata": {},
   "outputs": [],
   "source": [
    "# Use the forest's predict method on the test data\n",
    "predictions = rf_regular.predict(test_X)\n",
    "\n",
    "\n",
    "# Calculate the absolute errors\n",
    "errors = abs(predictions - test_y)"
   ]
  },
  {
   "cell_type": "code",
   "execution_count": 80,
   "id": "moral-camel",
   "metadata": {},
   "outputs": [
    {
     "data": {
      "text/plain": [
       "0.15571776155717762"
      ]
     },
     "execution_count": 80,
     "metadata": {},
     "output_type": "execute_result"
    }
   ],
   "source": [
    "errors.mean()  # very slightly better than w/kfold xvalidation"
   ]
  },
  {
   "cell_type": "code",
   "execution_count": 81,
   "id": "printable-exclusive",
   "metadata": {},
   "outputs": [],
   "source": [
    "fi = pd.DataFrame({'feature': list(df.iloc[:, :-1].columns),\n",
    "                   'importance': rf_regular.feature_importances_}).\\\n",
    "                    sort_values('importance', ascending = False)"
   ]
  },
  {
   "cell_type": "code",
   "execution_count": 82,
   "id": "mineral-strip",
   "metadata": {},
   "outputs": [
    {
     "data": {
      "text/html": [
       "<div>\n",
       "<style scoped>\n",
       "    .dataframe tbody tr th:only-of-type {\n",
       "        vertical-align: middle;\n",
       "    }\n",
       "\n",
       "    .dataframe tbody tr th {\n",
       "        vertical-align: top;\n",
       "    }\n",
       "\n",
       "    .dataframe thead th {\n",
       "        text-align: right;\n",
       "    }\n",
       "</style>\n",
       "<table border=\"1\" class=\"dataframe\">\n",
       "  <thead>\n",
       "    <tr style=\"text-align: right;\">\n",
       "      <th></th>\n",
       "      <th>feature</th>\n",
       "      <th>importance</th>\n",
       "    </tr>\n",
       "  </thead>\n",
       "  <tbody>\n",
       "    <tr>\n",
       "      <th>1</th>\n",
       "      <td>round2winnervotes</td>\n",
       "      <td>0.247417</td>\n",
       "    </tr>\n",
       "    <tr>\n",
       "      <th>0</th>\n",
       "      <td>round1winnervotes</td>\n",
       "      <td>0.242909</td>\n",
       "    </tr>\n",
       "    <tr>\n",
       "      <th>7</th>\n",
       "      <td>total_votes_allrounds</td>\n",
       "      <td>0.228156</td>\n",
       "    </tr>\n",
       "    <tr>\n",
       "      <th>2</th>\n",
       "      <td>round3winnervotes</td>\n",
       "      <td>0.113642</td>\n",
       "    </tr>\n",
       "    <tr>\n",
       "      <th>9</th>\n",
       "      <td>noise</td>\n",
       "      <td>0.090503</td>\n",
       "    </tr>\n",
       "    <tr>\n",
       "      <th>3</th>\n",
       "      <td>round4winnervotes</td>\n",
       "      <td>0.046617</td>\n",
       "    </tr>\n",
       "    <tr>\n",
       "      <th>4</th>\n",
       "      <td>round5winnervotes</td>\n",
       "      <td>0.014937</td>\n",
       "    </tr>\n",
       "    <tr>\n",
       "      <th>8</th>\n",
       "      <td>num_candidates</td>\n",
       "      <td>0.008496</td>\n",
       "    </tr>\n",
       "    <tr>\n",
       "      <th>5</th>\n",
       "      <td>round6winnervotes</td>\n",
       "      <td>0.005544</td>\n",
       "    </tr>\n",
       "    <tr>\n",
       "      <th>6</th>\n",
       "      <td>round7winnervotes</td>\n",
       "      <td>0.001779</td>\n",
       "    </tr>\n",
       "  </tbody>\n",
       "</table>\n",
       "</div>"
      ],
      "text/plain": [
       "                 feature  importance\n",
       "1      round2winnervotes    0.247417\n",
       "0      round1winnervotes    0.242909\n",
       "7  total_votes_allrounds    0.228156\n",
       "2      round3winnervotes    0.113642\n",
       "9                  noise    0.090503\n",
       "3      round4winnervotes    0.046617\n",
       "4      round5winnervotes    0.014937\n",
       "8         num_candidates    0.008496\n",
       "5      round6winnervotes    0.005544\n",
       "6      round7winnervotes    0.001779"
      ]
     },
     "execution_count": 82,
     "metadata": {},
     "output_type": "execute_result"
    }
   ],
   "source": [
    "fi"
   ]
  },
  {
   "cell_type": "code",
   "execution_count": 83,
   "id": "suspended-start",
   "metadata": {},
   "outputs": [
    {
     "data": {
      "text/plain": [
       "0.8442822384428224"
      ]
     },
     "execution_count": 83,
     "metadata": {},
     "output_type": "execute_result"
    }
   ],
   "source": [
    "rf_regular.score(test_X, test_y)  # slightly shittier accuracy than kfold xvalidation"
   ]
  },
  {
   "cell_type": "code",
   "execution_count": 84,
   "id": "liable-eleven",
   "metadata": {},
   "outputs": [
    {
     "name": "stdout",
     "output_type": "stream",
     "text": [
      "[[  49  727]\n",
      " [ 105 4462]]\n"
     ]
    }
   ],
   "source": [
    "from sklearn.metrics import confusion_matrix\n",
    "\n",
    "conf_mat = confusion_matrix(test_y, predictions)\n",
    "print(conf_mat)"
   ]
  },
  {
   "cell_type": "code",
   "execution_count": 85,
   "id": "expensive-technical",
   "metadata": {},
   "outputs": [
    {
     "name": "stdout",
     "output_type": "stream",
     "text": [
      "[[0.06314433 0.93685567]\n",
      " [0.02299102 0.97700898]]\n"
     ]
    },
    {
     "data": {
      "image/png": "[encoded data removed]",
      "text/plain": [
       "<Figure size 432x288 with 2 Axes>"
      ]
     },
     "metadata": {
      "needs_background": "light"
     },
     "output_type": "display_data"
    }
   ],
   "source": [
    "from sklearn.metrics import confusion_matrix, plot_confusion_matrix\n",
    "import matplotlib.pyplot as plt \n",
    "\n",
    "conf_mat = confusion_matrix(test_y, predictions, normalize='true')\n",
    "print(conf_mat)\n",
    "\n",
    "\n",
    "disp = plot_confusion_matrix(rf_regular, test_X, test_y, cmap=plt.cm.Blues, normalize='true')\n",
    "\n",
    "\n",
    "# uh oh, that's real crappy performance"
   ]
  },
  {
   "cell_type": "code",
   "execution_count": null,
   "id": "israeli-windows",
   "metadata": {},
   "outputs": [],
   "source": []
  },
  {
   "cell_type": "code",
   "execution_count": null,
   "id": "oriental-correlation",
   "metadata": {},
   "outputs": [],
   "source": []
  },
  {
   "cell_type": "code",
   "execution_count": null,
   "id": "varied-alignment",
   "metadata": {},
   "outputs": [],
   "source": []
  },
  {
   "cell_type": "code",
   "execution_count": null,
   "id": "grateful-philosophy",
   "metadata": {},
   "outputs": [],
   "source": []
  },
  {
   "cell_type": "markdown",
   "id": "composed-tolerance",
   "metadata": {},
   "source": [
    "### Hyperparameter pipeline"
   ]
  },
  {
   "cell_type": "code",
   "execution_count": null,
   "id": "coated-pointer",
   "metadata": {},
   "outputs": [],
   "source": []
  },
  {
   "cell_type": "code",
   "execution_count": null,
   "id": "formed-handy",
   "metadata": {},
   "outputs": [],
   "source": []
  },
  {
   "cell_type": "code",
   "execution_count": null,
   "id": "wrapped-recall",
   "metadata": {},
   "outputs": [],
   "source": []
  },
  {
   "cell_type": "code",
   "execution_count": null,
   "id": "turkish-guest",
   "metadata": {},
   "outputs": [],
   "source": []
  },
  {
   "cell_type": "code",
   "execution_count": null,
   "id": "printable-ancient",
   "metadata": {},
   "outputs": [],
   "source": []
  },
  {
   "cell_type": "code",
   "execution_count": null,
   "id": "artistic-clearance",
   "metadata": {},
   "outputs": [],
   "source": [
    "# use sherin's vfi thing"
   ]
  }
 ],
 "metadata": {
  "kernelspec": {
   "display_name": "Python 3",
   "language": "python",
   "name": "python3"
  },
  "language_info": {
   "codemirror_mode": {
    "name": "ipython",
    "version": 3
   },
   "file_extension": ".py",
   "mimetype": "text/x-python",
   "name": "python",
   "nbconvert_exporter": "python",
   "pygments_lexer": "ipython3",
   "version": "3.9.1"
  },
  "toc": {
   "base_numbering": 1,
   "nav_menu": {},
   "number_sections": false,
   "sideBar": true,
   "skip_h1_title": false,
   "title_cell": "Table of Contents",
   "title_sidebar": "Contents",
   "toc_cell": false,
   "toc_position": {
    "height": "calc(100% - 180px)",
    "left": "10px",
    "top": "150px",
    "width": "268.797px"
   },
   "toc_section_display": true,
   "toc_window_display": true
  }
 },
 "nbformat": 4,
 "nbformat_minor": 5
}
