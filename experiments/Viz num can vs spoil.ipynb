{
 "cells": [
  {
   "cell_type": "code",
   "execution_count": 27,
   "id": "aware-people",
   "metadata": {},
   "outputs": [
    {
     "name": "stdout",
     "output_type": "stream",
     "text": [
      "for 3 number of candidates 1    178\n",
      "0     22\n",
      "Name: spoiled, dtype: int64\n",
      "for 4 number of candidates 1    168\n",
      "0     32\n",
      "Name: spoiled, dtype: int64\n",
      "for 5 number of candidates 1    150\n",
      "0     50\n",
      "Name: spoiled, dtype: int64\n",
      "for 6 number of candidates 1    149\n",
      "0     51\n",
      "Name: spoiled, dtype: int64\n",
      "for 7 number of candidates 1    142\n",
      "0     58\n",
      "Name: spoiled, dtype: int64\n"
     ]
    }
   ],
   "source": [
    "import pandas as pd\n",
    "import matplotlib as plt\n",
    "from sklearn.preprocessing import MinMaxScaler\n",
    "import numpy as np\n",
    "import seaborn as sb\n",
    "  \n",
    "\n",
    "df=pd.read_csv(\"ranked-choice-voting/new_final_master.csv\")\n",
    "\n",
    "for i in range(3,8):\n",
    "    print( \"for {} number of candidates\".format(i),\n",
    "    df[(df[\"num_candidates\"]==i)].sample(n=200)[\"spoiled\"].value_counts())\n"
   ]
  },
  {
   "cell_type": "code",
   "execution_count": 26,
   "id": "active-grenada",
   "metadata": {},
   "outputs": [],
   "source": [
    "sample_df = df.sample(n=200)"
   ]
  },
  {
   "cell_type": "code",
   "execution_count": 39,
   "id": "wanted-steering",
   "metadata": {},
   "outputs": [
    {
     "data": {
      "text/html": [
       "<div>\n",
       "<style scoped>\n",
       "    .dataframe tbody tr th:only-of-type {\n",
       "        vertical-align: middle;\n",
       "    }\n",
       "\n",
       "    .dataframe tbody tr th {\n",
       "        vertical-align: top;\n",
       "    }\n",
       "\n",
       "    .dataframe thead th {\n",
       "        text-align: right;\n",
       "    }\n",
       "</style>\n",
       "<table border=\"1\" class=\"dataframe\">\n",
       "  <thead>\n",
       "    <tr style=\"text-align: right;\">\n",
       "      <th></th>\n",
       "      <th>round1winnervotes</th>\n",
       "      <th>round2winnervotes</th>\n",
       "      <th>round3winnervotes</th>\n",
       "      <th>round4winnervotes</th>\n",
       "      <th>round5winnervotes</th>\n",
       "      <th>round6winnervotes</th>\n",
       "      <th>round7winnervotes</th>\n",
       "      <th>total_votes_allrounds</th>\n",
       "      <th>num_candidates</th>\n",
       "      <th>noise</th>\n",
       "      <th>spoiled</th>\n",
       "      <th>Unnamed: 0</th>\n",
       "    </tr>\n",
       "  </thead>\n",
       "  <tbody>\n",
       "    <tr>\n",
       "      <th>24523</th>\n",
       "      <td>7397</td>\n",
       "      <td>8334</td>\n",
       "      <td>12567</td>\n",
       "      <td>0</td>\n",
       "      <td>0</td>\n",
       "      <td>0.0</td>\n",
       "      <td>0.0</td>\n",
       "      <td>28298</td>\n",
       "      <td>4.0</td>\n",
       "      <td>0.005000</td>\n",
       "      <td>1</td>\n",
       "      <td>NaN</td>\n",
       "    </tr>\n",
       "    <tr>\n",
       "      <th>11146</th>\n",
       "      <td>9840</td>\n",
       "      <td>12803</td>\n",
       "      <td>18908</td>\n",
       "      <td>0</td>\n",
       "      <td>0</td>\n",
       "      <td>0.0</td>\n",
       "      <td>0.0</td>\n",
       "      <td>41551</td>\n",
       "      <td>4.0</td>\n",
       "      <td>0.025000</td>\n",
       "      <td>1</td>\n",
       "      <td>NaN</td>\n",
       "    </tr>\n",
       "    <tr>\n",
       "      <th>35607</th>\n",
       "      <td>2565</td>\n",
       "      <td>3278</td>\n",
       "      <td>0</td>\n",
       "      <td>0</td>\n",
       "      <td>0</td>\n",
       "      <td>0.0</td>\n",
       "      <td>0.0</td>\n",
       "      <td>5843</td>\n",
       "      <td>3.0</td>\n",
       "      <td>0.006667</td>\n",
       "      <td>1</td>\n",
       "      <td>NaN</td>\n",
       "    </tr>\n",
       "    <tr>\n",
       "      <th>24141</th>\n",
       "      <td>4773</td>\n",
       "      <td>7494</td>\n",
       "      <td>10665</td>\n",
       "      <td>0</td>\n",
       "      <td>0</td>\n",
       "      <td>0.0</td>\n",
       "      <td>NaN</td>\n",
       "      <td>22932</td>\n",
       "      <td>4.0</td>\n",
       "      <td>0.000000</td>\n",
       "      <td>0</td>\n",
       "      <td>NaN</td>\n",
       "    </tr>\n",
       "    <tr>\n",
       "      <th>11658</th>\n",
       "      <td>2540</td>\n",
       "      <td>3201</td>\n",
       "      <td>4817</td>\n",
       "      <td>0</td>\n",
       "      <td>0</td>\n",
       "      <td>0.0</td>\n",
       "      <td>0.0</td>\n",
       "      <td>10558</td>\n",
       "      <td>4.0</td>\n",
       "      <td>0.002500</td>\n",
       "      <td>1</td>\n",
       "      <td>NaN</td>\n",
       "    </tr>\n",
       "  </tbody>\n",
       "</table>\n",
       "</div>"
      ],
      "text/plain": [
       "       round1winnervotes  round2winnervotes  round3winnervotes  \\\n",
       "24523               7397               8334              12567   \n",
       "11146               9840              12803              18908   \n",
       "35607               2565               3278                  0   \n",
       "24141               4773               7494              10665   \n",
       "11658               2540               3201               4817   \n",
       "\n",
       "       round4winnervotes  round5winnervotes  round6winnervotes  \\\n",
       "24523                  0                  0                0.0   \n",
       "11146                  0                  0                0.0   \n",
       "35607                  0                  0                0.0   \n",
       "24141                  0                  0                0.0   \n",
       "11658                  0                  0                0.0   \n",
       "\n",
       "       round7winnervotes  total_votes_allrounds  num_candidates     noise  \\\n",
       "24523                0.0                  28298             4.0  0.005000   \n",
       "11146                0.0                  41551             4.0  0.025000   \n",
       "35607                0.0                   5843             3.0  0.006667   \n",
       "24141                NaN                  22932             4.0  0.000000   \n",
       "11658                0.0                  10558             4.0  0.002500   \n",
       "\n",
       "       spoiled  Unnamed: 0  \n",
       "24523        1         NaN  \n",
       "11146        1         NaN  \n",
       "35607        1         NaN  \n",
       "24141        0         NaN  \n",
       "11658        1         NaN  "
      ]
     },
     "execution_count": 39,
     "metadata": {},
     "output_type": "execute_result"
    }
   ],
   "source": [
    "sample_df.head()"
   ]
  },
  {
   "cell_type": "code",
   "execution_count": 47,
   "id": "offshore-interpretation",
   "metadata": {},
   "outputs": [
    {
     "data": {
      "text/plain": [
       "num_candidates  spoiled\n",
       "3.0             1          0.899674\n",
       "                0          0.100326\n",
       "4.0             1          0.831997\n",
       "                0          0.168003\n",
       "5.0             1          0.774165\n",
       "                0          0.225835\n",
       "6.0             1          0.718550\n",
       "                0          0.281450\n",
       "7.0             1          0.708333\n",
       "                0          0.291667\n",
       "8.0             1          0.666667\n",
       "                0          0.333333\n",
       "Name: spoiled, dtype: float64"
      ]
     },
     "execution_count": 47,
     "metadata": {},
     "output_type": "execute_result"
    }
   ],
   "source": [
    "df.groupby(['num_candidates'])['spoiled'].value_counts(normalize=True)"
   ]
  },
  {
   "cell_type": "code",
   "execution_count": 55,
   "id": "seeing-cookbook",
   "metadata": {},
   "outputs": [
    {
     "data": {
      "image/png": "[encoded data removed]",
      "text/plain": [
       "<Figure size 432x288 with 1 Axes>"
      ]
     },
     "metadata": {
      "needs_background": "light"
     },
     "output_type": "display_data"
    }
   ],
   "source": [
    "election_counts = (df.groupby(['num_candidates'])['spoiled']\n",
    "                     .value_counts(normalize=True)\n",
    "                     .rename('total')\n",
    "                     .mul(100)\n",
    "                     .reset_index()\n",
    "                     .sort_values('num_candidates'))\n",
    "p = sb.barplot(x=\"num_candidates\", y=\"total\", hue=\"spoiled\", data=occupation_counts)"
   ]
  },
  {
   "cell_type": "code",
   "execution_count": 37,
   "id": "integral-conference",
   "metadata": {},
   "outputs": [
    {
     "ename": "SyntaxError",
     "evalue": "invalid syntax (<ipython-input-37-49ec704468ce>, line 4)",
     "output_type": "error",
     "traceback": [
      "\u001b[1;36m  File \u001b[1;32m\"<ipython-input-37-49ec704468ce>\"\u001b[1;36m, line \u001b[1;32m4\u001b[0m\n\u001b[1;33m    y= ,\u001b[0m\n\u001b[1;37m       ^\u001b[0m\n\u001b[1;31mSyntaxError\u001b[0m\u001b[1;31m:\u001b[0m invalid syntax\n"
     ]
    }
   ],
   "source": [
    "ax = sb.barplot(\n",
    "        data=df,\n",
    "        x=\"num_candidates\",\n",
    "        y= \"\",\n",
    "        hue=\"spoiled\",\n",
    "        palette=['blue', 'red'],\n",
    "        saturation=0.6,\n",
    "    )"
   ]
  },
  {
   "cell_type": "code",
   "execution_count": 1,
   "id": "nuclear-panama",
   "metadata": {},
   "outputs": [],
   "source": [
    "import pandas as pd\n",
    "import matplotlib as plt\n",
    "from sklearn.preprocessing import MinMaxScaler\n",
    "import numpy as np\n",
    "  "
   ]
  },
  {
   "cell_type": "code",
   "execution_count": 2,
   "id": "planned-writing",
   "metadata": {},
   "outputs": [],
   "source": [
    "df=pd.read_csv(\"ranked-choice-voting/new_final_master.csv\")\n"
   ]
  },
  {
   "cell_type": "code",
   "execution_count": 6,
   "id": "precious-raise",
   "metadata": {},
   "outputs": [
    {
     "ename": "AttributeError",
     "evalue": "module 'matplotlib' has no attribute 'hist'",
     "output_type": "error",
     "traceback": [
      "\u001b[1;31m---------------------------------------------------------------------------\u001b[0m",
      "\u001b[1;31mAttributeError\u001b[0m                            Traceback (most recent call last)",
      "\u001b[1;32m<ipython-input-6-911c887d9978>\u001b[0m in \u001b[0;36m<module>\u001b[1;34m\u001b[0m\n\u001b[1;32m----> 1\u001b[1;33m \u001b[0mplt\u001b[0m\u001b[1;33m.\u001b[0m\u001b[0mhist\u001b[0m\u001b[1;33m(\u001b[0m\u001b[0mdf\u001b[0m\u001b[1;33m[\u001b[0m\u001b[1;34m'num_candidates'\u001b[0m\u001b[1;33m]\u001b[0m\u001b[1;33m.\u001b[0m\u001b[0mvalues\u001b[0m\u001b[1;33m(\u001b[0m\u001b[1;33m)\u001b[0m\u001b[1;33m)\u001b[0m\u001b[1;33m\u001b[0m\u001b[1;33m\u001b[0m\u001b[0m\n\u001b[0m\u001b[0;32m      2\u001b[0m \u001b[1;33m\u001b[0m\u001b[0m\n\u001b[0;32m      3\u001b[0m \u001b[0mplt\u001b[0m\u001b[1;33m.\u001b[0m\u001b[0mshow\u001b[0m\u001b[1;33m(\u001b[0m\u001b[1;33m)\u001b[0m\u001b[1;33m\u001b[0m\u001b[1;33m\u001b[0m\u001b[0m\n",
      "\u001b[1;31mAttributeError\u001b[0m: module 'matplotlib' has no attribute 'hist'"
     ]
    }
   ],
   "source": [
    "plt.hist(df['num_candidates'].values())\n",
    "\n",
    "plt.show()"
   ]
  },
  {
   "cell_type": "code",
   "execution_count": 7,
   "id": "worthy-alias",
   "metadata": {},
   "outputs": [
    {
     "data": {
      "image/png": "[encoded data removed]",
      "text/plain": [
       "<Figure size 432x288 with 1 Axes>"
      ]
     },
     "metadata": {
      "needs_background": "light"
     },
     "output_type": "display_data"
    }
   ],
   "source": [
    "import matplotlib.pyplot as plt\n",
    "import pandas as pd\n",
    "import numpy as np\n",
    "\n",
    "df = pd.read_csv('ranked-choice-voting/new_final_master.csv')\n",
    "data = df['num_candidates']\n",
    "bins = np.arange(min(data), max(data) + 1, 1)\n",
    "\n",
    "plt.hist(data, bins = bins, density = True)\n",
    "plt.ylabel('Density')\n",
    "plt.xlabel('num_candidates')\n",
    "\n",
    "plt.show()"
   ]
  },
  {
   "cell_type": "code",
   "execution_count": 11,
   "id": "heavy-cambodia",
   "metadata": {},
   "outputs": [
    {
     "data": {
      "text/plain": [
       "Series([], Name: spoiled, dtype: int64)"
      ]
     },
     "execution_count": 11,
     "metadata": {},
     "output_type": "execute_result"
    }
   ],
   "source": [
    "df"
   ]
  },
  {
   "cell_type": "code",
   "execution_count": null,
   "id": "geological-franchise",
   "metadata": {},
   "outputs": [],
   "source": []
  }
 ],
 "metadata": {
  "kernelspec": {
   "display_name": "Python 3",
   "language": "python",
   "name": "python3"
  },
  "language_info": {
   "codemirror_mode": {
    "name": "ipython",
    "version": 3
   },
   "file_extension": ".py",
   "mimetype": "text/x-python",
   "name": "python",
   "nbconvert_exporter": "python",
   "pygments_lexer": "ipython3",
   "version": "3.8.6"
  }
 },
 "nbformat": 4,
 "nbformat_minor": 5
}
