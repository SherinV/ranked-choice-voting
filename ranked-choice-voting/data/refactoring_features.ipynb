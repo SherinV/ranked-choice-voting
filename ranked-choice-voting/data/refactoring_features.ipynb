{
 "cells": [
  {
   "cell_type": "code",
   "execution_count": 2,
   "metadata": {},
   "outputs": [],
   "source": [
    "import pandas as pd\n",
    "\n",
    "\n",
    "#Refactoring Feature Code:\n",
    "\n",
    "elec_dict = pd.read_csv('election_dict.csv')"
   ]
  },
  {
   "cell_type": "code",
   "execution_count": 3,
   "metadata": {},
   "outputs": [
    {
     "data": {
      "text/html": [
       "<div>\n",
       "<style scoped>\n",
       "    .dataframe tbody tr th:only-of-type {\n",
       "        vertical-align: middle;\n",
       "    }\n",
       "\n",
       "    .dataframe tbody tr th {\n",
       "        vertical-align: top;\n",
       "    }\n",
       "\n",
       "    .dataframe thead th {\n",
       "        text-align: right;\n",
       "    }\n",
       "</style>\n",
       "<table border=\"1\" class=\"dataframe\">\n",
       "  <thead>\n",
       "    <tr style=\"text-align: right;\">\n",
       "      <th></th>\n",
       "      <th>Round: 1</th>\n",
       "      <th>Election</th>\n",
       "      <th>Round: 2</th>\n",
       "      <th>Round: 3</th>\n",
       "      <th>Round: 4</th>\n",
       "      <th>Round: 5</th>\n",
       "    </tr>\n",
       "  </thead>\n",
       "  <tbody>\n",
       "    <tr>\n",
       "      <th>0</th>\n",
       "      <td>[{'candidate_3': ' 8110'}, {'candidate_2': ' 5...</td>\n",
       "      <td>election_09-22-2020_23-00-57_3cands_0.02666666...</td>\n",
       "      <td>NaN</td>\n",
       "      <td>NaN</td>\n",
       "      <td>NaN</td>\n",
       "      <td>NaN</td>\n",
       "    </tr>\n",
       "    <tr>\n",
       "      <th>1</th>\n",
       "      <td>[{'candidate_1': '22255'}, {'candidate_2': '16...</td>\n",
       "      <td>election_09-22-2020_23-00-57_3cands_0.04666666...</td>\n",
       "      <td>[{'candidate_1': '27432'}, {'candidate_2': '18...</td>\n",
       "      <td>NaN</td>\n",
       "      <td>NaN</td>\n",
       "      <td>NaN</td>\n",
       "    </tr>\n",
       "    <tr>\n",
       "      <th>2</th>\n",
       "      <td>[{'candidate_4': '10705'}, {'candidate_2': ' 9...</td>\n",
       "      <td>election_09-22-2020_23-00-57_4cands_0.03noise.csv</td>\n",
       "      <td>[{'candidate_4': '12922'}, {'candidate_2': '12...</td>\n",
       "      <td>[{'candidate_2': '21517'}, {'candidate_4': '15...</td>\n",
       "      <td>NaN</td>\n",
       "      <td>NaN</td>\n",
       "    </tr>\n",
       "    <tr>\n",
       "      <th>3</th>\n",
       "      <td>[{'candidate_2': ' 6023'}, {'candidate_3': ' 3...</td>\n",
       "      <td>election_09-22-2020_23-05-19_3cands_0.00333333...</td>\n",
       "      <td>NaN</td>\n",
       "      <td>NaN</td>\n",
       "      <td>NaN</td>\n",
       "      <td>NaN</td>\n",
       "    </tr>\n",
       "    <tr>\n",
       "      <th>4</th>\n",
       "      <td>[{'candidate_4': '11451'}, {'candidate_2': '11...</td>\n",
       "      <td>election_09-22-2020_23-05-19_4cands_0.035noise...</td>\n",
       "      <td>[{'candidate_2': '16509'}, {'candidate_4': '15...</td>\n",
       "      <td>[{'candidate_2': '23750'}, {'candidate_4': '20...</td>\n",
       "      <td>NaN</td>\n",
       "      <td>NaN</td>\n",
       "    </tr>\n",
       "  </tbody>\n",
       "</table>\n",
       "</div>"
      ],
      "text/plain": [
       "                                            Round: 1  \\\n",
       "0  [{'candidate_3': ' 8110'}, {'candidate_2': ' 5...   \n",
       "1  [{'candidate_1': '22255'}, {'candidate_2': '16...   \n",
       "2  [{'candidate_4': '10705'}, {'candidate_2': ' 9...   \n",
       "3  [{'candidate_2': ' 6023'}, {'candidate_3': ' 3...   \n",
       "4  [{'candidate_4': '11451'}, {'candidate_2': '11...   \n",
       "\n",
       "                                            Election  \\\n",
       "0  election_09-22-2020_23-00-57_3cands_0.02666666...   \n",
       "1  election_09-22-2020_23-00-57_3cands_0.04666666...   \n",
       "2  election_09-22-2020_23-00-57_4cands_0.03noise.csv   \n",
       "3  election_09-22-2020_23-05-19_3cands_0.00333333...   \n",
       "4  election_09-22-2020_23-05-19_4cands_0.035noise...   \n",
       "\n",
       "                                            Round: 2  \\\n",
       "0                                                NaN   \n",
       "1  [{'candidate_1': '27432'}, {'candidate_2': '18...   \n",
       "2  [{'candidate_4': '12922'}, {'candidate_2': '12...   \n",
       "3                                                NaN   \n",
       "4  [{'candidate_2': '16509'}, {'candidate_4': '15...   \n",
       "\n",
       "                                            Round: 3 Round: 4 Round: 5  \n",
       "0                                                NaN      NaN      NaN  \n",
       "1                                                NaN      NaN      NaN  \n",
       "2  [{'candidate_2': '21517'}, {'candidate_4': '15...      NaN      NaN  \n",
       "3                                                NaN      NaN      NaN  \n",
       "4  [{'candidate_2': '23750'}, {'candidate_4': '20...      NaN      NaN  "
      ]
     },
     "execution_count": 3,
     "metadata": {},
     "output_type": "execute_result"
    }
   ],
   "source": [
    "elec_dict.head()"
   ]
  },
  {
   "cell_type": "code",
   "execution_count": 4,
   "metadata": {},
   "outputs": [
    {
     "data": {
      "text/plain": [
       "(22, 6)"
      ]
     },
     "execution_count": 4,
     "metadata": {},
     "output_type": "execute_result"
    }
   ],
   "source": [
    "elec_dict.shape"
   ]
  },
  {
   "cell_type": "code",
   "execution_count": null,
   "metadata": {},
   "outputs": [],
   "source": [
    "#Steps: Need to get total first place rounds for each candidate"
   ]
  }
 ],
 "metadata": {
  "kernelspec": {
   "display_name": "Python 3",
   "language": "python",
   "name": "python3"
  },
  "language_info": {
   "codemirror_mode": {
    "name": "ipython",
    "version": 3
   },
   "file_extension": ".py",
   "mimetype": "text/x-python",
   "name": "python",
   "nbconvert_exporter": "python",
   "pygments_lexer": "ipython3",
   "version": "3.8.3"
  }
 },
 "nbformat": 4,
 "nbformat_minor": 4
}
