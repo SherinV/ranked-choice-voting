{
 "cells": [
  {
   "cell_type": "code",
   "execution_count": 1,
   "id": "ready-graduation",
   "metadata": {},
   "outputs": [],
   "source": [
    "import pandas as pd\n",
    "import boto3"
   ]
  },
  {
   "cell_type": "code",
   "execution_count": 2,
   "id": "latter-approach",
   "metadata": {},
   "outputs": [
    {
     "name": "stdout",
     "output_type": "stream",
     "text": [
      "/Users/audrey.lorberfeld/Desktop/ranked-choice-voting/ranked-choice-voting\r\n"
     ]
    }
   ],
   "source": [
    "!pwd"
   ]
  },
  {
   "cell_type": "code",
   "execution_count": 3,
   "id": "accepting-danger",
   "metadata": {},
   "outputs": [],
   "source": [
    "df = pd.read_csv('../data/final_master.csv')"
   ]
  },
  {
   "cell_type": "code",
   "execution_count": 4,
   "id": "legal-oliver",
   "metadata": {},
   "outputs": [
    {
     "data": {
      "text/plain": [
       "(26714, 11)"
      ]
     },
     "execution_count": 4,
     "metadata": {},
     "output_type": "execute_result"
    }
   ],
   "source": [
    "df.shape"
   ]
  },
  {
   "cell_type": "code",
   "execution_count": 5,
   "id": "athletic-sunday",
   "metadata": {},
   "outputs": [
    {
     "data": {
      "text/html": [
       "<div>\n",
       "<style scoped>\n",
       "    .dataframe tbody tr th:only-of-type {\n",
       "        vertical-align: middle;\n",
       "    }\n",
       "\n",
       "    .dataframe tbody tr th {\n",
       "        vertical-align: top;\n",
       "    }\n",
       "\n",
       "    .dataframe thead th {\n",
       "        text-align: right;\n",
       "    }\n",
       "</style>\n",
       "<table border=\"1\" class=\"dataframe\">\n",
       "  <thead>\n",
       "    <tr style=\"text-align: right;\">\n",
       "      <th></th>\n",
       "      <th>round1winnervotes</th>\n",
       "      <th>round2winnervotes</th>\n",
       "      <th>round3winnervotes</th>\n",
       "      <th>round4winnervotes</th>\n",
       "      <th>round5winnervotes</th>\n",
       "      <th>round6winnervotes</th>\n",
       "      <th>round7winnervotes</th>\n",
       "      <th>total_votes_allrounds</th>\n",
       "      <th>num_candidates</th>\n",
       "      <th>noise</th>\n",
       "      <th>spoiled</th>\n",
       "    </tr>\n",
       "  </thead>\n",
       "  <tbody>\n",
       "    <tr>\n",
       "      <th>0</th>\n",
       "      <td>11346</td>\n",
       "      <td>13632</td>\n",
       "      <td>0</td>\n",
       "      <td>0</td>\n",
       "      <td>0</td>\n",
       "      <td>0.0</td>\n",
       "      <td>0.0</td>\n",
       "      <td>24978</td>\n",
       "      <td>3.0</td>\n",
       "      <td>0.020000</td>\n",
       "      <td>1</td>\n",
       "    </tr>\n",
       "    <tr>\n",
       "      <th>1</th>\n",
       "      <td>11220</td>\n",
       "      <td>0</td>\n",
       "      <td>0</td>\n",
       "      <td>0</td>\n",
       "      <td>0</td>\n",
       "      <td>0.0</td>\n",
       "      <td>0.0</td>\n",
       "      <td>11220</td>\n",
       "      <td>3.0</td>\n",
       "      <td>0.030000</td>\n",
       "      <td>1</td>\n",
       "    </tr>\n",
       "    <tr>\n",
       "      <th>2</th>\n",
       "      <td>6243</td>\n",
       "      <td>10050</td>\n",
       "      <td>0</td>\n",
       "      <td>0</td>\n",
       "      <td>0</td>\n",
       "      <td>0.0</td>\n",
       "      <td>0.0</td>\n",
       "      <td>16293</td>\n",
       "      <td>3.0</td>\n",
       "      <td>0.046667</td>\n",
       "      <td>0</td>\n",
       "    </tr>\n",
       "    <tr>\n",
       "      <th>3</th>\n",
       "      <td>5246</td>\n",
       "      <td>5974</td>\n",
       "      <td>6964</td>\n",
       "      <td>8368</td>\n",
       "      <td>10437</td>\n",
       "      <td>13888.0</td>\n",
       "      <td>20829.0</td>\n",
       "      <td>71706</td>\n",
       "      <td>8.0</td>\n",
       "      <td>0.005000</td>\n",
       "      <td>1</td>\n",
       "    </tr>\n",
       "    <tr>\n",
       "      <th>4</th>\n",
       "      <td>17535</td>\n",
       "      <td>24995</td>\n",
       "      <td>0</td>\n",
       "      <td>0</td>\n",
       "      <td>0</td>\n",
       "      <td>0.0</td>\n",
       "      <td>0.0</td>\n",
       "      <td>42530</td>\n",
       "      <td>3.0</td>\n",
       "      <td>0.033333</td>\n",
       "      <td>1</td>\n",
       "    </tr>\n",
       "  </tbody>\n",
       "</table>\n",
       "</div>"
      ],
      "text/plain": [
       "   round1winnervotes  round2winnervotes  round3winnervotes  round4winnervotes  \\\n",
       "0              11346              13632                  0                  0   \n",
       "1              11220                  0                  0                  0   \n",
       "2               6243              10050                  0                  0   \n",
       "3               5246               5974               6964               8368   \n",
       "4              17535              24995                  0                  0   \n",
       "\n",
       "   round5winnervotes  round6winnervotes  round7winnervotes  \\\n",
       "0                  0                0.0                0.0   \n",
       "1                  0                0.0                0.0   \n",
       "2                  0                0.0                0.0   \n",
       "3              10437            13888.0            20829.0   \n",
       "4                  0                0.0                0.0   \n",
       "\n",
       "   total_votes_allrounds  num_candidates     noise  spoiled  \n",
       "0                  24978             3.0  0.020000        1  \n",
       "1                  11220             3.0  0.030000        1  \n",
       "2                  16293             3.0  0.046667        0  \n",
       "3                  71706             8.0  0.005000        1  \n",
       "4                  42530             3.0  0.033333        1  "
      ]
     },
     "execution_count": 5,
     "metadata": {},
     "output_type": "execute_result"
    }
   ],
   "source": [
    "df.head()"
   ]
  },
  {
   "cell_type": "code",
   "execution_count": 15,
   "id": "greater-variable",
   "metadata": {},
   "outputs": [
    {
     "data": {
      "text/html": [
       "<div>\n",
       "<style scoped>\n",
       "    .dataframe tbody tr th:only-of-type {\n",
       "        vertical-align: middle;\n",
       "    }\n",
       "\n",
       "    .dataframe tbody tr th {\n",
       "        vertical-align: top;\n",
       "    }\n",
       "\n",
       "    .dataframe thead th {\n",
       "        text-align: right;\n",
       "    }\n",
       "</style>\n",
       "<table border=\"1\" class=\"dataframe\">\n",
       "  <thead>\n",
       "    <tr style=\"text-align: right;\">\n",
       "      <th></th>\n",
       "      <th>round1winnervotes</th>\n",
       "      <th>round2winnervotes</th>\n",
       "      <th>round3winnervotes</th>\n",
       "      <th>round4winnervotes</th>\n",
       "      <th>round5winnervotes</th>\n",
       "      <th>round6winnervotes</th>\n",
       "      <th>round7winnervotes</th>\n",
       "      <th>total_votes_allrounds</th>\n",
       "      <th>num_candidates</th>\n",
       "      <th>noise</th>\n",
       "      <th>spoiled</th>\n",
       "    </tr>\n",
       "  </thead>\n",
       "  <tbody>\n",
       "    <tr>\n",
       "      <th>7398</th>\n",
       "      <td>4843</td>\n",
       "      <td>5772</td>\n",
       "      <td>7406</td>\n",
       "      <td>9746</td>\n",
       "      <td>14340</td>\n",
       "      <td>0.0</td>\n",
       "      <td>NaN</td>\n",
       "      <td>42107</td>\n",
       "      <td>6.0</td>\n",
       "      <td>0.021667</td>\n",
       "      <td>1</td>\n",
       "    </tr>\n",
       "    <tr>\n",
       "      <th>7399</th>\n",
       "      <td>5805</td>\n",
       "      <td>6292</td>\n",
       "      <td>0</td>\n",
       "      <td>0</td>\n",
       "      <td>0</td>\n",
       "      <td>0.0</td>\n",
       "      <td>NaN</td>\n",
       "      <td>12097</td>\n",
       "      <td>3.0</td>\n",
       "      <td>0.036667</td>\n",
       "      <td>1</td>\n",
       "    </tr>\n",
       "    <tr>\n",
       "      <th>7400</th>\n",
       "      <td>6686</td>\n",
       "      <td>10493</td>\n",
       "      <td>0</td>\n",
       "      <td>0</td>\n",
       "      <td>0</td>\n",
       "      <td>0.0</td>\n",
       "      <td>NaN</td>\n",
       "      <td>17179</td>\n",
       "      <td>3.0</td>\n",
       "      <td>0.000000</td>\n",
       "      <td>1</td>\n",
       "    </tr>\n",
       "    <tr>\n",
       "      <th>7401</th>\n",
       "      <td>8063</td>\n",
       "      <td>11588</td>\n",
       "      <td>15108</td>\n",
       "      <td>0</td>\n",
       "      <td>0</td>\n",
       "      <td>0.0</td>\n",
       "      <td>NaN</td>\n",
       "      <td>34759</td>\n",
       "      <td>4.0</td>\n",
       "      <td>0.020000</td>\n",
       "      <td>1</td>\n",
       "    </tr>\n",
       "    <tr>\n",
       "      <th>7402</th>\n",
       "      <td>3168</td>\n",
       "      <td>3756</td>\n",
       "      <td>4592</td>\n",
       "      <td>6095</td>\n",
       "      <td>9285</td>\n",
       "      <td>0.0</td>\n",
       "      <td>NaN</td>\n",
       "      <td>26896</td>\n",
       "      <td>6.0</td>\n",
       "      <td>0.018333</td>\n",
       "      <td>1</td>\n",
       "    </tr>\n",
       "    <tr>\n",
       "      <th>...</th>\n",
       "      <td>...</td>\n",
       "      <td>...</td>\n",
       "      <td>...</td>\n",
       "      <td>...</td>\n",
       "      <td>...</td>\n",
       "      <td>...</td>\n",
       "      <td>...</td>\n",
       "      <td>...</td>\n",
       "      <td>...</td>\n",
       "      <td>...</td>\n",
       "      <td>...</td>\n",
       "    </tr>\n",
       "    <tr>\n",
       "      <th>26709</th>\n",
       "      <td>8603</td>\n",
       "      <td>12067</td>\n",
       "      <td>0</td>\n",
       "      <td>0</td>\n",
       "      <td>0</td>\n",
       "      <td>0.0</td>\n",
       "      <td>NaN</td>\n",
       "      <td>20670</td>\n",
       "      <td>3.0</td>\n",
       "      <td>0.016667</td>\n",
       "      <td>1</td>\n",
       "    </tr>\n",
       "    <tr>\n",
       "      <th>26710</th>\n",
       "      <td>2962</td>\n",
       "      <td>3429</td>\n",
       "      <td>4105</td>\n",
       "      <td>5114</td>\n",
       "      <td>6856</td>\n",
       "      <td>10260.0</td>\n",
       "      <td>NaN</td>\n",
       "      <td>32726</td>\n",
       "      <td>7.0</td>\n",
       "      <td>0.008571</td>\n",
       "      <td>1</td>\n",
       "    </tr>\n",
       "    <tr>\n",
       "      <th>26711</th>\n",
       "      <td>18078</td>\n",
       "      <td>26186</td>\n",
       "      <td>0</td>\n",
       "      <td>0</td>\n",
       "      <td>0</td>\n",
       "      <td>0.0</td>\n",
       "      <td>NaN</td>\n",
       "      <td>44264</td>\n",
       "      <td>3.0</td>\n",
       "      <td>0.043333</td>\n",
       "      <td>1</td>\n",
       "    </tr>\n",
       "    <tr>\n",
       "      <th>26712</th>\n",
       "      <td>2776</td>\n",
       "      <td>3592</td>\n",
       "      <td>4688</td>\n",
       "      <td>6703</td>\n",
       "      <td>0</td>\n",
       "      <td>0.0</td>\n",
       "      <td>NaN</td>\n",
       "      <td>17759</td>\n",
       "      <td>5.0</td>\n",
       "      <td>0.016000</td>\n",
       "      <td>0</td>\n",
       "    </tr>\n",
       "    <tr>\n",
       "      <th>26713</th>\n",
       "      <td>8918</td>\n",
       "      <td>10452</td>\n",
       "      <td>14035</td>\n",
       "      <td>0</td>\n",
       "      <td>0</td>\n",
       "      <td>0.0</td>\n",
       "      <td>NaN</td>\n",
       "      <td>33405</td>\n",
       "      <td>4.0</td>\n",
       "      <td>0.030000</td>\n",
       "      <td>1</td>\n",
       "    </tr>\n",
       "  </tbody>\n",
       "</table>\n",
       "<p>4280 rows × 11 columns</p>\n",
       "</div>"
      ],
      "text/plain": [
       "       round1winnervotes  round2winnervotes  round3winnervotes  \\\n",
       "7398                4843               5772               7406   \n",
       "7399                5805               6292                  0   \n",
       "7400                6686              10493                  0   \n",
       "7401                8063              11588              15108   \n",
       "7402                3168               3756               4592   \n",
       "...                  ...                ...                ...   \n",
       "26709               8603              12067                  0   \n",
       "26710               2962               3429               4105   \n",
       "26711              18078              26186                  0   \n",
       "26712               2776               3592               4688   \n",
       "26713               8918              10452              14035   \n",
       "\n",
       "       round4winnervotes  round5winnervotes  round6winnervotes  \\\n",
       "7398                9746              14340                0.0   \n",
       "7399                   0                  0                0.0   \n",
       "7400                   0                  0                0.0   \n",
       "7401                   0                  0                0.0   \n",
       "7402                6095               9285                0.0   \n",
       "...                  ...                ...                ...   \n",
       "26709                  0                  0                0.0   \n",
       "26710               5114               6856            10260.0   \n",
       "26711                  0                  0                0.0   \n",
       "26712               6703                  0                0.0   \n",
       "26713                  0                  0                0.0   \n",
       "\n",
       "       round7winnervotes  total_votes_allrounds  num_candidates     noise  \\\n",
       "7398                 NaN                  42107             6.0  0.021667   \n",
       "7399                 NaN                  12097             3.0  0.036667   \n",
       "7400                 NaN                  17179             3.0  0.000000   \n",
       "7401                 NaN                  34759             4.0  0.020000   \n",
       "7402                 NaN                  26896             6.0  0.018333   \n",
       "...                  ...                    ...             ...       ...   \n",
       "26709                NaN                  20670             3.0  0.016667   \n",
       "26710                NaN                  32726             7.0  0.008571   \n",
       "26711                NaN                  44264             3.0  0.043333   \n",
       "26712                NaN                  17759             5.0  0.016000   \n",
       "26713                NaN                  33405             4.0  0.030000   \n",
       "\n",
       "       spoiled  \n",
       "7398         1  \n",
       "7399         1  \n",
       "7400         1  \n",
       "7401         1  \n",
       "7402         1  \n",
       "...        ...  \n",
       "26709        1  \n",
       "26710        1  \n",
       "26711        1  \n",
       "26712        0  \n",
       "26713        1  \n",
       "\n",
       "[4280 rows x 11 columns]"
      ]
     },
     "execution_count": 15,
     "metadata": {},
     "output_type": "execute_result"
    }
   ],
   "source": [
    "df[df.isna().any(axis=1)]"
   ]
  },
  {
   "cell_type": "code",
   "execution_count": 17,
   "id": "introductory-wesley",
   "metadata": {},
   "outputs": [],
   "source": [
    "# Replacing NaNs w/0s:\n",
    "\n",
    "import numpy as np\n",
    "\n",
    "df = df.replace(np.nan, 0)"
   ]
  },
  {
   "cell_type": "markdown",
   "id": "crazy-insulin",
   "metadata": {},
   "source": [
    "---"
   ]
  },
  {
   "cell_type": "code",
   "execution_count": 41,
   "id": "close-colon",
   "metadata": {},
   "outputs": [],
   "source": [
    "X = df.iloc[:, :-1].values"
   ]
  },
  {
   "cell_type": "code",
   "execution_count": 58,
   "id": "abroad-measure",
   "metadata": {},
   "outputs": [],
   "source": [
    "y = df['spoiled'].values"
   ]
  },
  {
   "cell_type": "code",
   "execution_count": 59,
   "id": "refined-catering",
   "metadata": {},
   "outputs": [
    {
     "data": {
      "text/plain": [
       "array([1, 1, 0, ..., 1, 0, 1])"
      ]
     },
     "execution_count": 59,
     "metadata": {},
     "output_type": "execute_result"
    }
   ],
   "source": [
    "y"
   ]
  },
  {
   "cell_type": "markdown",
   "id": "lovely-footwear",
   "metadata": {},
   "source": [
    "## LogReg"
   ]
  },
  {
   "cell_type": "code",
   "execution_count": 8,
   "id": "elementary-genre",
   "metadata": {},
   "outputs": [],
   "source": [
    "from sklearn.linear_model import LogisticRegression"
   ]
  },
  {
   "cell_type": "code",
   "execution_count": 71,
   "id": "surprised-thomson",
   "metadata": {},
   "outputs": [],
   "source": [
    "clf = LogisticRegression(random_state=0).fit(X, y)"
   ]
  },
  {
   "cell_type": "code",
   "execution_count": 72,
   "id": "growing-victim",
   "metadata": {},
   "outputs": [
    {
     "data": {
      "text/plain": [
       "LogisticRegression(random_state=0)"
      ]
     },
     "execution_count": 72,
     "metadata": {},
     "output_type": "execute_result"
    }
   ],
   "source": [
    "clf"
   ]
  },
  {
   "cell_type": "code",
   "execution_count": 73,
   "id": "verbal-fancy",
   "metadata": {},
   "outputs": [
    {
     "data": {
      "text/plain": [
       "0.8605225724339298"
      ]
     },
     "execution_count": 73,
     "metadata": {},
     "output_type": "execute_result"
    }
   ],
   "source": [
    "clf.score(X, y)  # score = mean accuracy"
   ]
  },
  {
   "cell_type": "markdown",
   "id": "massive-fountain",
   "metadata": {},
   "source": [
    "## Random Forest"
   ]
  },
  {
   "cell_type": "code",
   "execution_count": 61,
   "id": "communist-latter",
   "metadata": {},
   "outputs": [],
   "source": [
    "# https://towardsdatascience.com/random-forest-in-python-24d0893d51c0\n",
    "\n",
    "from sklearn.ensemble import RandomForestClassifier\n",
    "from sklearn.model_selection import train_test_split\n",
    "\n",
    "train_X, test_X, train_y, test_y = train_test_split(X, y, test_size = 0.20, random_state = 0)\n"
   ]
  },
  {
   "cell_type": "code",
   "execution_count": 70,
   "id": "immediate-presence",
   "metadata": {},
   "outputs": [
    {
     "name": "stdout",
     "output_type": "stream",
     "text": [
      "(21371, 10)\n",
      "(21371,)\n",
      "(5343, 10)\n",
      "(5343,)\n"
     ]
    }
   ],
   "source": [
    "print(train_X.shape)\n",
    "print(train_y.shape)\n",
    "\n",
    "print(test_X.shape)\n",
    "print(test_y.shape)\n"
   ]
  },
  {
   "cell_type": "code",
   "execution_count": 75,
   "id": "secondary-japanese",
   "metadata": {},
   "outputs": [],
   "source": [
    "# Instantiate model with 1000 decision trees\n",
    "rf = RandomForestClassifier(n_estimators = 1000, random_state = 42)"
   ]
  },
  {
   "cell_type": "code",
   "execution_count": 76,
   "id": "contrary-adams",
   "metadata": {},
   "outputs": [],
   "source": [
    "# Train the model on training data\n",
    "rf.fit(train_X, train_y);"
   ]
  },
  {
   "cell_type": "code",
   "execution_count": 80,
   "id": "broke-incidence",
   "metadata": {},
   "outputs": [],
   "source": [
    "# Use the forest's predict method on the test data\n",
    "predictions = rf.predict(test_X)\n",
    "\n",
    "# Calculate the absolute errors\n",
    "errors = abs(predictions - test_y)\n"
   ]
  },
  {
   "cell_type": "code",
   "execution_count": 88,
   "id": "aging-faith",
   "metadata": {},
   "outputs": [],
   "source": [
    "# https://towardsdatascience.com/an-implementation-and-explanation-of-the-random-forest-in-python-77bf308a9b76\n",
    "\n",
    "fi = pd.DataFrame({'feature': list(df.iloc[:, :-1].columns),\n",
    "                   'importance': rf.feature_importances_}).\\\n",
    "                    sort_values('importance', ascending = False)"
   ]
  },
  {
   "cell_type": "code",
   "execution_count": 89,
   "id": "certain-diesel",
   "metadata": {},
   "outputs": [
    {
     "data": {
      "text/html": [
       "<div>\n",
       "<style scoped>\n",
       "    .dataframe tbody tr th:only-of-type {\n",
       "        vertical-align: middle;\n",
       "    }\n",
       "\n",
       "    .dataframe tbody tr th {\n",
       "        vertical-align: top;\n",
       "    }\n",
       "\n",
       "    .dataframe thead th {\n",
       "        text-align: right;\n",
       "    }\n",
       "</style>\n",
       "<table border=\"1\" class=\"dataframe\">\n",
       "  <thead>\n",
       "    <tr style=\"text-align: right;\">\n",
       "      <th></th>\n",
       "      <th>feature</th>\n",
       "      <th>importance</th>\n",
       "    </tr>\n",
       "  </thead>\n",
       "  <tbody>\n",
       "    <tr>\n",
       "      <th>1</th>\n",
       "      <td>round2winnervotes</td>\n",
       "      <td>0.246345</td>\n",
       "    </tr>\n",
       "    <tr>\n",
       "      <th>0</th>\n",
       "      <td>round1winnervotes</td>\n",
       "      <td>0.243044</td>\n",
       "    </tr>\n",
       "    <tr>\n",
       "      <th>7</th>\n",
       "      <td>total_votes_allrounds</td>\n",
       "      <td>0.228400</td>\n",
       "    </tr>\n",
       "    <tr>\n",
       "      <th>2</th>\n",
       "      <td>round3winnervotes</td>\n",
       "      <td>0.114034</td>\n",
       "    </tr>\n",
       "    <tr>\n",
       "      <th>9</th>\n",
       "      <td>noise</td>\n",
       "      <td>0.090784</td>\n",
       "    </tr>\n",
       "    <tr>\n",
       "      <th>3</th>\n",
       "      <td>round4winnervotes</td>\n",
       "      <td>0.046584</td>\n",
       "    </tr>\n",
       "    <tr>\n",
       "      <th>4</th>\n",
       "      <td>round5winnervotes</td>\n",
       "      <td>0.015027</td>\n",
       "    </tr>\n",
       "    <tr>\n",
       "      <th>8</th>\n",
       "      <td>num_candidates</td>\n",
       "      <td>0.008593</td>\n",
       "    </tr>\n",
       "    <tr>\n",
       "      <th>5</th>\n",
       "      <td>round6winnervotes</td>\n",
       "      <td>0.005477</td>\n",
       "    </tr>\n",
       "    <tr>\n",
       "      <th>6</th>\n",
       "      <td>round7winnervotes</td>\n",
       "      <td>0.001711</td>\n",
       "    </tr>\n",
       "  </tbody>\n",
       "</table>\n",
       "</div>"
      ],
      "text/plain": [
       "                 feature  importance\n",
       "1      round2winnervotes    0.246345\n",
       "0      round1winnervotes    0.243044\n",
       "7  total_votes_allrounds    0.228400\n",
       "2      round3winnervotes    0.114034\n",
       "9                  noise    0.090784\n",
       "3      round4winnervotes    0.046584\n",
       "4      round5winnervotes    0.015027\n",
       "8         num_candidates    0.008593\n",
       "5      round6winnervotes    0.005477\n",
       "6      round7winnervotes    0.001711"
      ]
     },
     "execution_count": 89,
     "metadata": {},
     "output_type": "execute_result"
    }
   ],
   "source": [
    "fi"
   ]
  },
  {
   "cell_type": "code",
   "execution_count": 91,
   "id": "found-princeton",
   "metadata": {
    "scrolled": true
   },
   "outputs": [
    {
     "name": "stdout",
     "output_type": "stream",
     "text": [
      "Average number of nodes 5520\n",
      "Average maximum depth 42\n"
     ]
    }
   ],
   "source": [
    "n_nodes = []\n",
    "max_depths = []\n",
    "\n",
    "for ind_tree in rf.estimators_:\n",
    "    n_nodes.append(ind_tree.tree_.node_count)\n",
    "    max_depths.append(ind_tree.tree_.max_depth)\n",
    "    \n",
    "print(f'Average number of nodes {int(np.mean(n_nodes))}')\n",
    "print(f'Average maximum depth {int(np.mean(max_depths))}')\n"
   ]
  },
  {
   "cell_type": "code",
   "execution_count": 107,
   "id": "sporting-italian",
   "metadata": {},
   "outputs": [
    {
     "data": {
      "text/plain": [
       "0.9691547503181852"
      ]
     },
     "execution_count": 107,
     "metadata": {},
     "output_type": "execute_result"
    }
   ],
   "source": [
    "rf.score(X, y)  # mean accuracy"
   ]
  },
  {
   "cell_type": "code",
   "execution_count": 108,
   "id": "oriented-river",
   "metadata": {
    "scrolled": true
   },
   "outputs": [
    {
     "name": "stdout",
     "output_type": "stream",
     "text": [
      "[[  51  725]\n",
      " [  99 4468]]\n"
     ]
    }
   ],
   "source": [
    "from sklearn.metrics import confusion_matrix\n",
    "\n",
    "conf_mat = confusion_matrix(test_y, predictions)\n",
    "print(conf_mat)"
   ]
  },
  {
   "cell_type": "code",
   "execution_count": 111,
   "id": "executed-voluntary",
   "metadata": {},
   "outputs": [
    {
     "data": {
      "image/png": "[encoded data removed]",
      "text/plain": [
       "<Figure size 432x288 with 2 Axes>"
      ]
     },
     "metadata": {
      "needs_background": "light"
     },
     "output_type": "display_data"
    }
   ],
   "source": [
    "import seaborn\n",
    "seaborn.heatmap(conf_mat)\n",
    "plt.show()"
   ]
  },
  {
   "cell_type": "code",
   "execution_count": 114,
   "id": "dried-static",
   "metadata": {},
   "outputs": [
    {
     "name": "stdout",
     "output_type": "stream",
     "text": [
      "[[0.06572165 0.93427835]\n",
      " [0.02167725 0.97832275]]\n"
     ]
    },
    {
     "data": {
      "image/png": "[encoded data removed]",
      "text/plain": [
       "<Figure size 432x288 with 2 Axes>"
      ]
     },
     "metadata": {
      "needs_background": "light"
     },
     "output_type": "display_data"
    }
   ],
   "source": [
    "from sklearn.metrics import confusion_matrix, plot_confusion_matrix\n",
    "\n",
    "conf_mat = confusion_matrix(test_y, predictions, normalize='true')\n",
    "print(conf_mat)\n",
    "\n",
    "\n",
    "disp = plot_confusion_matrix(rf, test_X, test_y,\n",
    "display_labels=['spoiled', 'not spoiled'], cmap=plt.cm.Blues, normalize='true')"
   ]
  },
  {
   "cell_type": "code",
   "execution_count": 123,
   "id": "japanese-concord",
   "metadata": {},
   "outputs": [
    {
     "data": {
      "text/plain": [
       "1    22999\n",
       "0     3715\n",
       "Name: spoiled, dtype: int64"
      ]
     },
     "execution_count": 123,
     "metadata": {},
     "output_type": "execute_result"
    }
   ],
   "source": [
    "df.spoiled.value_counts()   # 0 = yes, 1 = no"
   ]
  },
  {
   "cell_type": "code",
   "execution_count": null,
   "id": "first-england",
   "metadata": {},
   "outputs": [],
   "source": []
  }
 ],
 "metadata": {
  "kernelspec": {
   "display_name": "Python 3",
   "language": "python",
   "name": "python3"
  },
  "language_info": {
   "codemirror_mode": {
    "name": "ipython",
    "version": 3
   },
   "file_extension": ".py",
   "mimetype": "text/x-python",
   "name": "python",
   "nbconvert_exporter": "python",
   "pygments_lexer": "ipython3",
   "version": "3.9.1"
  },
  "toc": {
   "base_numbering": 1,
   "nav_menu": {},
   "number_sections": false,
   "sideBar": true,
   "skip_h1_title": false,
   "title_cell": "Table of Contents",
   "title_sidebar": "Contents",
   "toc_cell": false,
   "toc_position": {},
   "toc_section_display": true,
   "toc_window_display": false
  }
 },
 "nbformat": 4,
 "nbformat_minor": 5
}
